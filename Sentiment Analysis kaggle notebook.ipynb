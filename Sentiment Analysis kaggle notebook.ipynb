{
 "cells": [
  {
   "cell_type": "code",
   "execution_count": 1,
   "id": "f58e7137",
   "metadata": {
    "_cell_guid": "b1076dfc-b9ad-4769-8c92-a6c4dae69d19",
    "_uuid": "8f2839f25d086af736a60e9eeb907d3b93b6e0e5",
    "execution": {
     "iopub.execute_input": "2023-08-13T17:57:42.764603Z",
     "iopub.status.busy": "2023-08-13T17:57:42.764127Z",
     "iopub.status.idle": "2023-08-13T17:57:42.781720Z",
     "shell.execute_reply": "2023-08-13T17:57:42.780471Z"
    },
    "papermill": {
     "duration": 0.053861,
     "end_time": "2023-08-13T17:57:42.784339",
     "exception": false,
     "start_time": "2023-08-13T17:57:42.730478",
     "status": "completed"
    },
    "tags": []
   },
   "outputs": [
    {
     "name": "stdout",
     "output_type": "stream",
     "text": [
      "/kaggle/input/sentiment-prediction-on-movie-reviews/movies.csv\n",
      "/kaggle/input/sentiment-prediction-on-movie-reviews/sample.csv\n",
      "/kaggle/input/sentiment-prediction-on-movie-reviews/train.csv\n",
      "/kaggle/input/sentiment-prediction-on-movie-reviews/test.csv\n"
     ]
    }
   ],
   "source": [
    "# This Python 3 environment comes with many helpful analytics libraries installed\n",
    "# It is defined by the kaggle/python Docker image: https://github.com/kaggle/docker-python\n",
    "# For example, here's several helpful packages to load\n",
    "\n",
    "import numpy as np # linear algebra\n",
    "import pandas as pd # data processing, CSV file I/O (e.g. pd.read_csv)\n",
    "\n",
    "# Input data files are available in the read-only \"../input/\" directory\n",
    "# For example, running this (by clicking run or pressing Shift+Enter) will list all files under the input directory\n",
    "\n",
    "import os\n",
    "for dirname, _, filenames in os.walk('/kaggle/input'):\n",
    "    for filename in filenames:\n",
    "        print(os.path.join(dirname, filename))\n",
    "\n",
    "# You can write up to 20GB to the current directory (/kaggle/working/) that gets preserved as output when you create a version using \"Save & Run All\" \n",
    "# You can also write temporary files to /kaggle/temp/, but they won't be saved outside of the current session"
   ]
  },
  {
   "cell_type": "markdown",
   "id": "18b6fe89",
   "metadata": {
    "papermill": {
     "duration": 0.02991,
     "end_time": "2023-08-13T17:57:42.845470",
     "exception": false,
     "start_time": "2023-08-13T17:57:42.815560",
     "status": "completed"
    },
    "tags": []
   },
   "source": [
    "## Load datasets"
   ]
  },
  {
   "cell_type": "code",
   "execution_count": 2,
   "id": "96170ce3",
   "metadata": {
    "execution": {
     "iopub.execute_input": "2023-08-13T17:57:42.909477Z",
     "iopub.status.busy": "2023-08-13T17:57:42.908974Z",
     "iopub.status.idle": "2023-08-13T17:57:45.274913Z",
     "shell.execute_reply": "2023-08-13T17:57:45.273945Z"
    },
    "papermill": {
     "duration": 2.401297,
     "end_time": "2023-08-13T17:57:45.277828",
     "exception": false,
     "start_time": "2023-08-13T17:57:42.876531",
     "status": "completed"
    },
    "tags": []
   },
   "outputs": [],
   "source": [
    "# load datasets from kaggle repository\n",
    "df_train= pd.read_csv(\"/kaggle/input/sentiment-prediction-on-movie-reviews/train.csv\")\n",
    "df_test= pd.read_csv(\"/kaggle/input/sentiment-prediction-on-movie-reviews/test.csv\")\n",
    "sample_data = pd.read_csv(\"/kaggle/input/sentiment-prediction-on-movie-reviews/sample.csv\")\n",
    "df_movies=pd.read_csv(\"/kaggle/input/sentiment-prediction-on-movie-reviews/movies.csv\")"
   ]
  },
  {
   "cell_type": "markdown",
   "id": "6409ffe5",
   "metadata": {
    "papermill": {
     "duration": 0.031155,
     "end_time": "2023-08-13T17:57:45.339705",
     "exception": false,
     "start_time": "2023-08-13T17:57:45.308550",
     "status": "completed"
    },
    "tags": []
   },
   "source": [
    "## Load required libraries"
   ]
  },
  {
   "cell_type": "code",
   "execution_count": 3,
   "id": "1d256631",
   "metadata": {
    "execution": {
     "iopub.execute_input": "2023-08-13T17:57:45.404320Z",
     "iopub.status.busy": "2023-08-13T17:57:45.403553Z",
     "iopub.status.idle": "2023-08-13T17:57:47.065239Z",
     "shell.execute_reply": "2023-08-13T17:57:47.064089Z"
    },
    "papermill": {
     "duration": 1.696379,
     "end_time": "2023-08-13T17:57:47.067998",
     "exception": false,
     "start_time": "2023-08-13T17:57:45.371619",
     "status": "completed"
    },
    "tags": []
   },
   "outputs": [],
   "source": [
    "#load required libraries for manipulating, visualizing and summarizing given datasets\n",
    "import pandas as pd\n",
    "import numpy as np\n",
    "import seaborn as sns\n",
    "import matplotlib.pyplot as plt"
   ]
  },
  {
   "cell_type": "markdown",
   "id": "14e0eb6f",
   "metadata": {
    "papermill": {
     "duration": 0.030185,
     "end_time": "2023-08-13T17:57:47.128522",
     "exception": false,
     "start_time": "2023-08-13T17:57:47.098337",
     "status": "completed"
    },
    "tags": []
   },
   "source": [
    "## Exploratory Data Analysis (EDA)"
   ]
  },
  {
   "cell_type": "code",
   "execution_count": 4,
   "id": "7b7e18b7",
   "metadata": {
    "execution": {
     "iopub.execute_input": "2023-08-13T17:57:47.191217Z",
     "iopub.status.busy": "2023-08-13T17:57:47.190792Z",
     "iopub.status.idle": "2023-08-13T17:57:47.224672Z",
     "shell.execute_reply": "2023-08-13T17:57:47.223511Z"
    },
    "papermill": {
     "duration": 0.068311,
     "end_time": "2023-08-13T17:57:47.227358",
     "exception": false,
     "start_time": "2023-08-13T17:57:47.159047",
     "status": "completed"
    },
    "tags": []
   },
   "outputs": [
    {
     "data": {
      "text/html": [
       "<div>\n",
       "<style scoped>\n",
       "    .dataframe tbody tr th:only-of-type {\n",
       "        vertical-align: middle;\n",
       "    }\n",
       "\n",
       "    .dataframe tbody tr th {\n",
       "        vertical-align: top;\n",
       "    }\n",
       "\n",
       "    .dataframe thead th {\n",
       "        text-align: right;\n",
       "    }\n",
       "</style>\n",
       "<table border=\"1\" class=\"dataframe\">\n",
       "  <thead>\n",
       "    <tr style=\"text-align: right;\">\n",
       "      <th></th>\n",
       "      <th>movieid</th>\n",
       "      <th>reviewerName</th>\n",
       "      <th>isFrequentReviewer</th>\n",
       "      <th>reviewText</th>\n",
       "      <th>sentiment</th>\n",
       "    </tr>\n",
       "  </thead>\n",
       "  <tbody>\n",
       "    <tr>\n",
       "      <th>0</th>\n",
       "      <td>marvelous_pirate</td>\n",
       "      <td>Benjamin Henry</td>\n",
       "      <td>False</td>\n",
       "      <td>Henry Selick’s first movie since 2009’s Corali...</td>\n",
       "      <td>POSITIVE</td>\n",
       "    </tr>\n",
       "    <tr>\n",
       "      <th>1</th>\n",
       "      <td>tony_montana_frodo_baggins_v_rocky_balboa</td>\n",
       "      <td>Felicia Lopez</td>\n",
       "      <td>False</td>\n",
       "      <td>With a cast that reads like the Vogue Oscar pa...</td>\n",
       "      <td>NEGATIVE</td>\n",
       "    </tr>\n",
       "    <tr>\n",
       "      <th>2</th>\n",
       "      <td>darth_vader_katniss_everdeen_sorcerer_donnie_d...</td>\n",
       "      <td>Mr. Charles Burgess</td>\n",
       "      <td>True</td>\n",
       "      <td>Creed II does not give us anything but another...</td>\n",
       "      <td>POSITIVE</td>\n",
       "    </tr>\n",
       "    <tr>\n",
       "      <th>3</th>\n",
       "      <td>lara_croft_glimmer</td>\n",
       "      <td>Ryan Barrett</td>\n",
       "      <td>False</td>\n",
       "      <td>I know what you're thinking, but this is no Li...</td>\n",
       "      <td>POSITIVE</td>\n",
       "    </tr>\n",
       "    <tr>\n",
       "      <th>4</th>\n",
       "      <td>jason_bourne_surreal_the_terminator_indiana_jones</td>\n",
       "      <td>Alexander Glover</td>\n",
       "      <td>False</td>\n",
       "      <td>Director Fernando Meirelles tells the story wi...</td>\n",
       "      <td>POSITIVE</td>\n",
       "    </tr>\n",
       "  </tbody>\n",
       "</table>\n",
       "</div>"
      ],
      "text/plain": [
       "                                             movieid         reviewerName  \\\n",
       "0                                   marvelous_pirate       Benjamin Henry   \n",
       "1          tony_montana_frodo_baggins_v_rocky_balboa        Felicia Lopez   \n",
       "2  darth_vader_katniss_everdeen_sorcerer_donnie_d...  Mr. Charles Burgess   \n",
       "3                                 lara_croft_glimmer         Ryan Barrett   \n",
       "4  jason_bourne_surreal_the_terminator_indiana_jones     Alexander Glover   \n",
       "\n",
       "   isFrequentReviewer                                         reviewText  \\\n",
       "0               False  Henry Selick’s first movie since 2009’s Corali...   \n",
       "1               False  With a cast that reads like the Vogue Oscar pa...   \n",
       "2                True  Creed II does not give us anything but another...   \n",
       "3               False  I know what you're thinking, but this is no Li...   \n",
       "4               False  Director Fernando Meirelles tells the story wi...   \n",
       "\n",
       "  sentiment  \n",
       "0  POSITIVE  \n",
       "1  NEGATIVE  \n",
       "2  POSITIVE  \n",
       "3  POSITIVE  \n",
       "4  POSITIVE  "
      ]
     },
     "execution_count": 4,
     "metadata": {},
     "output_type": "execute_result"
    }
   ],
   "source": [
    "#show first 5 rows of train datasets, this dataeset has 4 features and 1 label column(sentiment)\n",
    "df_train.head()"
   ]
  },
  {
   "cell_type": "code",
   "execution_count": 5,
   "id": "9c5905ad",
   "metadata": {
    "execution": {
     "iopub.execute_input": "2023-08-13T17:57:47.291186Z",
     "iopub.status.busy": "2023-08-13T17:57:47.290706Z",
     "iopub.status.idle": "2023-08-13T17:57:47.302165Z",
     "shell.execute_reply": "2023-08-13T17:57:47.301180Z"
    },
    "papermill": {
     "duration": 0.046079,
     "end_time": "2023-08-13T17:57:47.304347",
     "exception": false,
     "start_time": "2023-08-13T17:57:47.258268",
     "status": "completed"
    },
    "tags": []
   },
   "outputs": [
    {
     "data": {
      "text/html": [
       "<div>\n",
       "<style scoped>\n",
       "    .dataframe tbody tr th:only-of-type {\n",
       "        vertical-align: middle;\n",
       "    }\n",
       "\n",
       "    .dataframe tbody tr th {\n",
       "        vertical-align: top;\n",
       "    }\n",
       "\n",
       "    .dataframe thead th {\n",
       "        text-align: right;\n",
       "    }\n",
       "</style>\n",
       "<table border=\"1\" class=\"dataframe\">\n",
       "  <thead>\n",
       "    <tr style=\"text-align: right;\">\n",
       "      <th></th>\n",
       "      <th>movieid</th>\n",
       "      <th>reviewerName</th>\n",
       "      <th>isTopCritic</th>\n",
       "      <th>reviewText</th>\n",
       "    </tr>\n",
       "  </thead>\n",
       "  <tbody>\n",
       "    <tr>\n",
       "      <th>0</th>\n",
       "      <td>legend_marty_mcfly_oracle</td>\n",
       "      <td>John Kim</td>\n",
       "      <td>False</td>\n",
       "      <td>Green slowly cranks up the dread with style an...</td>\n",
       "    </tr>\n",
       "    <tr>\n",
       "      <th>1</th>\n",
       "      <td>terminator_katniss_everdeen_glimmer</td>\n",
       "      <td>Brian Chaney</td>\n",
       "      <td>False</td>\n",
       "      <td>Philip Noyce's direction is elegant and unforc...</td>\n",
       "    </tr>\n",
       "    <tr>\n",
       "      <th>2</th>\n",
       "      <td>james_bond_labyrinth_gollum</td>\n",
       "      <td>Danielle Parker</td>\n",
       "      <td>False</td>\n",
       "      <td>It wouldn't do to say what path Maria ultimate...</td>\n",
       "    </tr>\n",
       "    <tr>\n",
       "      <th>3</th>\n",
       "      <td>v_quest_han_solo_wondrous</td>\n",
       "      <td>Brittany Lane</td>\n",
       "      <td>False</td>\n",
       "      <td>Pig is not exactly the arthouse John Wick that...</td>\n",
       "    </tr>\n",
       "    <tr>\n",
       "      <th>4</th>\n",
       "      <td>enigma_hulk_surreal_starlight</td>\n",
       "      <td>Justin Willis</td>\n",
       "      <td>False</td>\n",
       "      <td>An imaginative no-budget musical of sorts abou...</td>\n",
       "    </tr>\n",
       "  </tbody>\n",
       "</table>\n",
       "</div>"
      ],
      "text/plain": [
       "                               movieid     reviewerName  isTopCritic  \\\n",
       "0            legend_marty_mcfly_oracle         John Kim        False   \n",
       "1  terminator_katniss_everdeen_glimmer     Brian Chaney        False   \n",
       "2          james_bond_labyrinth_gollum  Danielle Parker        False   \n",
       "3            v_quest_han_solo_wondrous    Brittany Lane        False   \n",
       "4        enigma_hulk_surreal_starlight    Justin Willis        False   \n",
       "\n",
       "                                          reviewText  \n",
       "0  Green slowly cranks up the dread with style an...  \n",
       "1  Philip Noyce's direction is elegant and unforc...  \n",
       "2  It wouldn't do to say what path Maria ultimate...  \n",
       "3  Pig is not exactly the arthouse John Wick that...  \n",
       "4  An imaginative no-budget musical of sorts abou...  "
      ]
     },
     "execution_count": 5,
     "metadata": {},
     "output_type": "execute_result"
    }
   ],
   "source": [
    "#show first 5 rows of test datasets, this dataeset has 4 features\n",
    "df_test.head()"
   ]
  },
  {
   "cell_type": "code",
   "execution_count": 6,
   "id": "62f2acce",
   "metadata": {
    "execution": {
     "iopub.execute_input": "2023-08-13T17:57:47.368741Z",
     "iopub.status.busy": "2023-08-13T17:57:47.367862Z",
     "iopub.status.idle": "2023-08-13T17:57:47.387739Z",
     "shell.execute_reply": "2023-08-13T17:57:47.386213Z"
    },
    "papermill": {
     "duration": 0.055157,
     "end_time": "2023-08-13T17:57:47.390694",
     "exception": false,
     "start_time": "2023-08-13T17:57:47.335537",
     "status": "completed"
    },
    "tags": []
   },
   "outputs": [
    {
     "data": {
      "text/html": [
       "<div>\n",
       "<style scoped>\n",
       "    .dataframe tbody tr th:only-of-type {\n",
       "        vertical-align: middle;\n",
       "    }\n",
       "\n",
       "    .dataframe tbody tr th {\n",
       "        vertical-align: top;\n",
       "    }\n",
       "\n",
       "    .dataframe thead th {\n",
       "        text-align: right;\n",
       "    }\n",
       "</style>\n",
       "<table border=\"1\" class=\"dataframe\">\n",
       "  <thead>\n",
       "    <tr style=\"text-align: right;\">\n",
       "      <th></th>\n",
       "      <th>movieid</th>\n",
       "      <th>title</th>\n",
       "      <th>audienceScore</th>\n",
       "      <th>rating</th>\n",
       "      <th>ratingContents</th>\n",
       "      <th>releaseDateTheaters</th>\n",
       "      <th>releaseDateStreaming</th>\n",
       "      <th>runtimeMinutes</th>\n",
       "      <th>genre</th>\n",
       "      <th>originalLanguage</th>\n",
       "      <th>director</th>\n",
       "      <th>boxOffice</th>\n",
       "      <th>distributor</th>\n",
       "      <th>soundType</th>\n",
       "    </tr>\n",
       "  </thead>\n",
       "  <tbody>\n",
       "    <tr>\n",
       "      <th>0</th>\n",
       "      <td>han_solo_heroic_myth_wonder_woman</td>\n",
       "      <td>Han Solo Heroic Myth Wonder Woman</td>\n",
       "      <td>50.0</td>\n",
       "      <td>NaN</td>\n",
       "      <td>NaN</td>\n",
       "      <td>NaN</td>\n",
       "      <td>2018-08-25</td>\n",
       "      <td>75.0</td>\n",
       "      <td>Comedy, Horror, Sci-fi</td>\n",
       "      <td>English</td>\n",
       "      <td>Claude Nicolet</td>\n",
       "      <td>NaN</td>\n",
       "      <td>NaN</td>\n",
       "      <td>NaN</td>\n",
       "    </tr>\n",
       "    <tr>\n",
       "      <th>1</th>\n",
       "      <td>voyage_tyler_durden_han_solo_stardust</td>\n",
       "      <td>Voyage Tyler Durden Han Solo Stardust</td>\n",
       "      <td>NaN</td>\n",
       "      <td>NaN</td>\n",
       "      <td>NaN</td>\n",
       "      <td>NaN</td>\n",
       "      <td>2020-02-11</td>\n",
       "      <td>114.0</td>\n",
       "      <td>Drama</td>\n",
       "      <td>English</td>\n",
       "      <td>Nathan Haack</td>\n",
       "      <td>NaN</td>\n",
       "      <td>NaN</td>\n",
       "      <td>NaN</td>\n",
       "    </tr>\n",
       "    <tr>\n",
       "      <th>2</th>\n",
       "      <td>norman_bates_ferris_bueller_hermione_granger_v...</td>\n",
       "      <td>Norman Bates Ferris Bueller Hermione Granger V...</td>\n",
       "      <td>43.0</td>\n",
       "      <td>NaN</td>\n",
       "      <td>NaN</td>\n",
       "      <td>NaN</td>\n",
       "      <td>NaN</td>\n",
       "      <td>120.0</td>\n",
       "      <td>Drama</td>\n",
       "      <td>Korean</td>\n",
       "      <td>Theresa Smith</td>\n",
       "      <td>NaN</td>\n",
       "      <td>NaN</td>\n",
       "      <td>NaN</td>\n",
       "    </tr>\n",
       "  </tbody>\n",
       "</table>\n",
       "</div>"
      ],
      "text/plain": [
       "                                             movieid  \\\n",
       "0                  han_solo_heroic_myth_wonder_woman   \n",
       "1              voyage_tyler_durden_han_solo_stardust   \n",
       "2  norman_bates_ferris_bueller_hermione_granger_v...   \n",
       "\n",
       "                                               title  audienceScore rating  \\\n",
       "0                  Han Solo Heroic Myth Wonder Woman           50.0    NaN   \n",
       "1              Voyage Tyler Durden Han Solo Stardust            NaN    NaN   \n",
       "2  Norman Bates Ferris Bueller Hermione Granger V...           43.0    NaN   \n",
       "\n",
       "  ratingContents releaseDateTheaters releaseDateStreaming  runtimeMinutes  \\\n",
       "0            NaN                 NaN           2018-08-25            75.0   \n",
       "1            NaN                 NaN           2020-02-11           114.0   \n",
       "2            NaN                 NaN                  NaN           120.0   \n",
       "\n",
       "                    genre originalLanguage        director boxOffice  \\\n",
       "0  Comedy, Horror, Sci-fi          English  Claude Nicolet       NaN   \n",
       "1                   Drama          English    Nathan Haack       NaN   \n",
       "2                   Drama           Korean   Theresa Smith       NaN   \n",
       "\n",
       "  distributor soundType  \n",
       "0         NaN       NaN  \n",
       "1         NaN       NaN  \n",
       "2         NaN       NaN  "
      ]
     },
     "execution_count": 6,
     "metadata": {},
     "output_type": "execute_result"
    }
   ],
   "source": [
    "#show first 5 rows of movies datasets, this dataeset has 14 features\n",
    "df_movies.head(3)"
   ]
  },
  {
   "cell_type": "code",
   "execution_count": 7,
   "id": "e30a9c90",
   "metadata": {
    "execution": {
     "iopub.execute_input": "2023-08-13T17:57:47.457118Z",
     "iopub.status.busy": "2023-08-13T17:57:47.456611Z",
     "iopub.status.idle": "2023-08-13T17:57:47.463895Z",
     "shell.execute_reply": "2023-08-13T17:57:47.462760Z"
    },
    "papermill": {
     "duration": 0.043941,
     "end_time": "2023-08-13T17:57:47.466356",
     "exception": false,
     "start_time": "2023-08-13T17:57:47.422415",
     "status": "completed"
    },
    "tags": []
   },
   "outputs": [
    {
     "data": {
      "text/plain": [
       "((162758, 5), (55315, 4), (143258, 14))"
      ]
     },
     "execution_count": 7,
     "metadata": {},
     "output_type": "execute_result"
    }
   ],
   "source": [
    "#check shape of each dataset\n",
    "df_train.shape, df_test.shape, df_movies.shape"
   ]
  },
  {
   "cell_type": "code",
   "execution_count": 8,
   "id": "ec2fa31f",
   "metadata": {
    "execution": {
     "iopub.execute_input": "2023-08-13T17:57:47.535392Z",
     "iopub.status.busy": "2023-08-13T17:57:47.534165Z",
     "iopub.status.idle": "2023-08-13T17:57:47.758801Z",
     "shell.execute_reply": "2023-08-13T17:57:47.757769Z"
    },
    "papermill": {
     "duration": 0.261893,
     "end_time": "2023-08-13T17:57:47.761399",
     "exception": false,
     "start_time": "2023-08-13T17:57:47.499506",
     "status": "completed"
    },
    "tags": []
   },
   "outputs": [
    {
     "data": {
      "text/plain": [
       "movieid                  0\n",
       "reviewerName             0\n",
       "isFrequentReviewer       0\n",
       "reviewText            6447\n",
       "sentiment                0\n",
       "dtype: int64"
      ]
     },
     "execution_count": 8,
     "metadata": {},
     "output_type": "execute_result"
    }
   ],
   "source": [
    "#Check null values in train datset; reviewText feature has 6447 null values\n",
    "\n",
    "df_train.isna().sum()"
   ]
  },
  {
   "cell_type": "code",
   "execution_count": 9,
   "id": "b3b317ad",
   "metadata": {
    "execution": {
     "iopub.execute_input": "2023-08-13T17:57:47.828390Z",
     "iopub.status.busy": "2023-08-13T17:57:47.827321Z",
     "iopub.status.idle": "2023-08-13T17:57:47.893811Z",
     "shell.execute_reply": "2023-08-13T17:57:47.892769Z"
    },
    "papermill": {
     "duration": 0.102951,
     "end_time": "2023-08-13T17:57:47.896617",
     "exception": false,
     "start_time": "2023-08-13T17:57:47.793666",
     "status": "completed"
    },
    "tags": []
   },
   "outputs": [
    {
     "data": {
      "text/plain": [
       "movieid            0\n",
       "reviewerName       0\n",
       "isTopCritic        0\n",
       "reviewText      2510\n",
       "dtype: int64"
      ]
     },
     "execution_count": 9,
     "metadata": {},
     "output_type": "execute_result"
    }
   ],
   "source": [
    "#Check null values in test datset; reviewText feature has 2510 null values\n",
    "df_test.isna().sum()"
   ]
  },
  {
   "cell_type": "code",
   "execution_count": 10,
   "id": "714aef27",
   "metadata": {
    "execution": {
     "iopub.execute_input": "2023-08-13T17:57:47.962112Z",
     "iopub.status.busy": "2023-08-13T17:57:47.961318Z",
     "iopub.status.idle": "2023-08-13T17:57:48.463638Z",
     "shell.execute_reply": "2023-08-13T17:57:48.462177Z"
    },
    "papermill": {
     "duration": 0.538204,
     "end_time": "2023-08-13T17:57:48.466534",
     "exception": false,
     "start_time": "2023-08-13T17:57:47.928330",
     "status": "completed"
    },
    "tags": []
   },
   "outputs": [
    {
     "data": {
      "text/plain": [
       "movieid                      0\n",
       "title                        0\n",
       "audienceScore            70010\n",
       "rating                  129267\n",
       "ratingContents          129267\n",
       "releaseDateTheaters     112485\n",
       "releaseDateStreaming     63838\n",
       "runtimeMinutes           13827\n",
       "genre                    11083\n",
       "originalLanguage         13858\n",
       "director                     0\n",
       "boxOffice               128515\n",
       "distributor             120253\n",
       "soundType               127341\n",
       "dtype: int64"
      ]
     },
     "execution_count": 10,
     "metadata": {},
     "output_type": "execute_result"
    }
   ],
   "source": [
    "#Check null values in movies datset; here only movieid, title and director column has not any null value \n",
    "#but rest features has many null values\n",
    "df_movies.isna().sum()"
   ]
  },
  {
   "cell_type": "code",
   "execution_count": 11,
   "id": "85d11c72",
   "metadata": {
    "execution": {
     "iopub.execute_input": "2023-08-13T17:57:48.532160Z",
     "iopub.status.busy": "2023-08-13T17:57:48.531717Z",
     "iopub.status.idle": "2023-08-13T17:57:49.031073Z",
     "shell.execute_reply": "2023-08-13T17:57:49.029901Z"
    },
    "papermill": {
     "duration": 0.535111,
     "end_time": "2023-08-13T17:57:49.033761",
     "exception": false,
     "start_time": "2023-08-13T17:57:48.498650",
     "status": "completed"
    },
    "tags": []
   },
   "outputs": [
    {
     "data": {
      "text/plain": [
       "movieid                  0.000000\n",
       "title                    0.000000\n",
       "audienceScore           43.014783\n",
       "rating                  79.422824\n",
       "ratingContents          79.422824\n",
       "releaseDateTheaters     69.111810\n",
       "releaseDateStreaming    39.222650\n",
       "runtimeMinutes           8.495435\n",
       "genre                    6.809496\n",
       "originalLanguage         8.514482\n",
       "director                 0.000000\n",
       "boxOffice               78.960788\n",
       "distributor             73.884540\n",
       "soundType               78.239472\n",
       "dtype: float64"
      ]
     },
     "execution_count": 11,
     "metadata": {},
     "output_type": "execute_result"
    }
   ],
   "source": [
    "#null values in percentage\n",
    "df_movies.isna().sum()/162758*100"
   ]
  },
  {
   "cell_type": "code",
   "execution_count": 12,
   "id": "a0e45f6b",
   "metadata": {
    "execution": {
     "iopub.execute_input": "2023-08-13T17:57:49.100164Z",
     "iopub.status.busy": "2023-08-13T17:57:49.099745Z",
     "iopub.status.idle": "2023-08-13T17:57:49.336333Z",
     "shell.execute_reply": "2023-08-13T17:57:49.334330Z"
    },
    "papermill": {
     "duration": 0.272953,
     "end_time": "2023-08-13T17:57:49.339129",
     "exception": false,
     "start_time": "2023-08-13T17:57:49.066176",
     "status": "completed"
    },
    "tags": []
   },
   "outputs": [
    {
     "name": "stdout",
     "output_type": "stream",
     "text": [
      "<class 'pandas.core.frame.DataFrame'>\n",
      "RangeIndex: 162758 entries, 0 to 162757\n",
      "Data columns (total 5 columns):\n",
      " #   Column              Non-Null Count   Dtype \n",
      "---  ------              --------------   ----- \n",
      " 0   movieid             162758 non-null  object\n",
      " 1   reviewerName        162758 non-null  object\n",
      " 2   isFrequentReviewer  162758 non-null  bool  \n",
      " 3   reviewText          156311 non-null  object\n",
      " 4   sentiment           162758 non-null  object\n",
      "dtypes: bool(1), object(4)\n",
      "memory usage: 5.1+ MB\n"
     ]
    }
   ],
   "source": [
    "#Check more information about train dataset ; from this function we get info. about no.of rows,\n",
    "#features names, their data types and  non null values, \n",
    "df_train.info()"
   ]
  },
  {
   "cell_type": "code",
   "execution_count": 13,
   "id": "1548e4e3",
   "metadata": {
    "execution": {
     "iopub.execute_input": "2023-08-13T17:57:49.406082Z",
     "iopub.status.busy": "2023-08-13T17:57:49.405198Z",
     "iopub.status.idle": "2023-08-13T17:57:49.471982Z",
     "shell.execute_reply": "2023-08-13T17:57:49.470760Z"
    },
    "papermill": {
     "duration": 0.103354,
     "end_time": "2023-08-13T17:57:49.474811",
     "exception": false,
     "start_time": "2023-08-13T17:57:49.371457",
     "status": "completed"
    },
    "tags": []
   },
   "outputs": [
    {
     "name": "stdout",
     "output_type": "stream",
     "text": [
      "<class 'pandas.core.frame.DataFrame'>\n",
      "RangeIndex: 55315 entries, 0 to 55314\n",
      "Data columns (total 4 columns):\n",
      " #   Column        Non-Null Count  Dtype \n",
      "---  ------        --------------  ----- \n",
      " 0   movieid       55315 non-null  object\n",
      " 1   reviewerName  55315 non-null  object\n",
      " 2   isTopCritic   55315 non-null  bool  \n",
      " 3   reviewText    52805 non-null  object\n",
      "dtypes: bool(1), object(3)\n",
      "memory usage: 1.3+ MB\n"
     ]
    }
   ],
   "source": [
    "#Checking more information about test dataset\n",
    "df_test.info()"
   ]
  },
  {
   "cell_type": "code",
   "execution_count": 14,
   "id": "b53848d3",
   "metadata": {
    "execution": {
     "iopub.execute_input": "2023-08-13T17:57:49.547633Z",
     "iopub.status.busy": "2023-08-13T17:57:49.547115Z",
     "iopub.status.idle": "2023-08-13T17:57:50.054671Z",
     "shell.execute_reply": "2023-08-13T17:57:50.053320Z"
    },
    "papermill": {
     "duration": 0.547115,
     "end_time": "2023-08-13T17:57:50.057398",
     "exception": false,
     "start_time": "2023-08-13T17:57:49.510283",
     "status": "completed"
    },
    "tags": []
   },
   "outputs": [
    {
     "name": "stdout",
     "output_type": "stream",
     "text": [
      "<class 'pandas.core.frame.DataFrame'>\n",
      "RangeIndex: 143258 entries, 0 to 143257\n",
      "Data columns (total 14 columns):\n",
      " #   Column                Non-Null Count   Dtype  \n",
      "---  ------                --------------   -----  \n",
      " 0   movieid               143258 non-null  object \n",
      " 1   title                 143258 non-null  object \n",
      " 2   audienceScore         73248 non-null   float64\n",
      " 3   rating                13991 non-null   object \n",
      " 4   ratingContents        13991 non-null   object \n",
      " 5   releaseDateTheaters   30773 non-null   object \n",
      " 6   releaseDateStreaming  79420 non-null   object \n",
      " 7   runtimeMinutes        129431 non-null  float64\n",
      " 8   genre                 132175 non-null  object \n",
      " 9   originalLanguage      129400 non-null  object \n",
      " 10  director              143258 non-null  object \n",
      " 11  boxOffice             14743 non-null   object \n",
      " 12  distributor           23005 non-null   object \n",
      " 13  soundType             15917 non-null   object \n",
      "dtypes: float64(2), object(12)\n",
      "memory usage: 15.3+ MB\n"
     ]
    }
   ],
   "source": [
    "#Checking more information about movies dataset\n",
    "df_movies.info()"
   ]
  },
  {
   "cell_type": "markdown",
   "id": "8d18abae",
   "metadata": {
    "papermill": {
     "duration": 0.032437,
     "end_time": "2023-08-13T17:57:50.122447",
     "exception": false,
     "start_time": "2023-08-13T17:57:50.090010",
     "status": "completed"
    },
    "tags": []
   },
   "source": [
    "## Merge movies dataset(meta data) with train and test datasets"
   ]
  },
  {
   "cell_type": "markdown",
   "id": "48ba40cd",
   "metadata": {
    "papermill": {
     "duration": 0.032964,
     "end_time": "2023-08-13T17:57:50.187880",
     "exception": false,
     "start_time": "2023-08-13T17:57:50.154916",
     "status": "completed"
    },
    "tags": []
   },
   "source": [
    "#### Movies dataset contains meta data of movies that listed in train and test datsets. So, need to merge to get detailed information about the movies in single dataset. This will help ML model to understand pattern in dataset."
   ]
  },
  {
   "cell_type": "code",
   "execution_count": 15,
   "id": "c1bd5fab",
   "metadata": {
    "execution": {
     "iopub.execute_input": "2023-08-13T17:57:50.255371Z",
     "iopub.status.busy": "2023-08-13T17:57:50.254548Z",
     "iopub.status.idle": "2023-08-13T17:57:50.748839Z",
     "shell.execute_reply": "2023-08-13T17:57:50.747578Z"
    },
    "papermill": {
     "duration": 0.531324,
     "end_time": "2023-08-13T17:57:50.751820",
     "exception": false,
     "start_time": "2023-08-13T17:57:50.220496",
     "status": "completed"
    },
    "tags": []
   },
   "outputs": [],
   "source": [
    "# first remove duplicates from movies dataset\n",
    "unique_movies=df_movies.drop_duplicates(subset=\"movieid\")\n",
    "\n",
    "# merge movie data with train dataset\n",
    "df_train_merged=pd.merge(df_train, unique_movies, how=\"left\")\n",
    "\n",
    "# merge movie data with test dataset\n",
    "df_test_merged=pd.merge(df_test, unique_movies, how=\"left\")"
   ]
  },
  {
   "cell_type": "markdown",
   "id": "f84050a5",
   "metadata": {
    "papermill": {
     "duration": 0.032201,
     "end_time": "2023-08-13T17:57:50.817073",
     "exception": false,
     "start_time": "2023-08-13T17:57:50.784872",
     "status": "completed"
    },
    "tags": []
   },
   "source": [
    "## Explore merged datasets"
   ]
  },
  {
   "cell_type": "code",
   "execution_count": 16,
   "id": "ef9f5bc6",
   "metadata": {
    "execution": {
     "iopub.execute_input": "2023-08-13T17:57:50.885492Z",
     "iopub.status.busy": "2023-08-13T17:57:50.885004Z",
     "iopub.status.idle": "2023-08-13T17:57:51.660130Z",
     "shell.execute_reply": "2023-08-13T17:57:51.658245Z"
    },
    "papermill": {
     "duration": 0.812485,
     "end_time": "2023-08-13T17:57:51.662973",
     "exception": false,
     "start_time": "2023-08-13T17:57:50.850488",
     "status": "completed"
    },
    "tags": []
   },
   "outputs": [
    {
     "name": "stdout",
     "output_type": "stream",
     "text": [
      "<class 'pandas.core.frame.DataFrame'>\n",
      "Int64Index: 162758 entries, 0 to 162757\n",
      "Data columns (total 18 columns):\n",
      " #   Column                Non-Null Count   Dtype  \n",
      "---  ------                --------------   -----  \n",
      " 0   movieid               162758 non-null  object \n",
      " 1   reviewerName          162758 non-null  object \n",
      " 2   isFrequentReviewer    162758 non-null  bool   \n",
      " 3   reviewText            156311 non-null  object \n",
      " 4   sentiment             162758 non-null  object \n",
      " 5   title                 162758 non-null  object \n",
      " 6   audienceScore         149510 non-null  float64\n",
      " 7   rating                99034 non-null   object \n",
      " 8   ratingContents        99034 non-null   object \n",
      " 9   releaseDateTheaters   126924 non-null  object \n",
      " 10  releaseDateStreaming  146573 non-null  object \n",
      " 11  runtimeMinutes        159382 non-null  float64\n",
      " 12  genre                 160320 non-null  object \n",
      " 13  originalLanguage      159468 non-null  object \n",
      " 14  director              162758 non-null  object \n",
      " 15  boxOffice             109982 non-null  object \n",
      " 16  distributor           122095 non-null  object \n",
      " 17  soundType             77391 non-null   object \n",
      "dtypes: bool(1), float64(2), object(15)\n",
      "memory usage: 22.5+ MB\n"
     ]
    }
   ],
   "source": [
    "#explore merged datasets\n",
    "df_train_merged.info()"
   ]
  },
  {
   "cell_type": "code",
   "execution_count": 17,
   "id": "e4db83de",
   "metadata": {
    "execution": {
     "iopub.execute_input": "2023-08-13T17:57:51.733725Z",
     "iopub.status.busy": "2023-08-13T17:57:51.733263Z",
     "iopub.status.idle": "2023-08-13T17:57:51.991765Z",
     "shell.execute_reply": "2023-08-13T17:57:51.990142Z"
    },
    "papermill": {
     "duration": 0.297934,
     "end_time": "2023-08-13T17:57:51.994945",
     "exception": false,
     "start_time": "2023-08-13T17:57:51.697011",
     "status": "completed"
    },
    "tags": []
   },
   "outputs": [
    {
     "name": "stdout",
     "output_type": "stream",
     "text": [
      "<class 'pandas.core.frame.DataFrame'>\n",
      "Int64Index: 55315 entries, 0 to 55314\n",
      "Data columns (total 17 columns):\n",
      " #   Column                Non-Null Count  Dtype  \n",
      "---  ------                --------------  -----  \n",
      " 0   movieid               55315 non-null  object \n",
      " 1   reviewerName          55315 non-null  object \n",
      " 2   isTopCritic           55315 non-null  bool   \n",
      " 3   reviewText            52805 non-null  object \n",
      " 4   title                 55315 non-null  object \n",
      " 5   audienceScore         50384 non-null  float64\n",
      " 6   rating                31019 non-null  object \n",
      " 7   ratingContents        31019 non-null  object \n",
      " 8   releaseDateTheaters   41613 non-null  object \n",
      " 9   releaseDateStreaming  49341 non-null  object \n",
      " 10  runtimeMinutes        54053 non-null  float64\n",
      " 11  genre                 54395 non-null  object \n",
      " 12  originalLanguage      54077 non-null  object \n",
      " 13  director              55315 non-null  object \n",
      " 14  boxOffice             35320 non-null  object \n",
      " 15  distributor           39719 non-null  object \n",
      " 16  soundType             24689 non-null  object \n",
      "dtypes: bool(1), float64(2), object(14)\n",
      "memory usage: 7.2+ MB\n"
     ]
    }
   ],
   "source": [
    "#explore merged dataset\n",
    "df_test_merged.info()"
   ]
  },
  {
   "cell_type": "markdown",
   "id": "19dbee5b",
   "metadata": {
    "papermill": {
     "duration": 0.032437,
     "end_time": "2023-08-13T17:57:52.061553",
     "exception": false,
     "start_time": "2023-08-13T17:57:52.029116",
     "status": "completed"
    },
    "tags": []
   },
   "source": [
    "### Visualize Null values in datasets graphically"
   ]
  },
  {
   "cell_type": "code",
   "execution_count": 18,
   "id": "6a4ba9aa",
   "metadata": {
    "execution": {
     "iopub.execute_input": "2023-08-13T17:57:52.129644Z",
     "iopub.status.busy": "2023-08-13T17:57:52.129177Z",
     "iopub.status.idle": "2023-08-13T17:57:56.481419Z",
     "shell.execute_reply": "2023-08-13T17:57:56.480117Z"
    },
    "papermill": {
     "duration": 4.389585,
     "end_time": "2023-08-13T17:57:56.484485",
     "exception": false,
     "start_time": "2023-08-13T17:57:52.094900",
     "status": "completed"
    },
    "tags": []
   },
   "outputs": [
    {
     "data": {
      "image/png": "[encoded data removed]",
      "text/plain": [
       "<Figure size 640x480 with 2 Axes>"
      ]
     },
     "metadata": {},
     "output_type": "display_data"
    }
   ],
   "source": [
    "#check merged test dataset null values graphically using seaborn library of python\n",
    "#here in train datsets null values distributed throughout the datsets.\n",
    "#white patches in graph indicatin the null values in respective feature\n",
    "sns.heatmap(df_train_merged.isnull())\n",
    "plt.show()"
   ]
  },
  {
   "cell_type": "code",
   "execution_count": 19,
   "id": "ff620366",
   "metadata": {
    "execution": {
     "iopub.execute_input": "2023-08-13T17:57:56.556389Z",
     "iopub.status.busy": "2023-08-13T17:57:56.555902Z",
     "iopub.status.idle": "2023-08-13T17:57:58.295732Z",
     "shell.execute_reply": "2023-08-13T17:57:58.294500Z"
    },
    "papermill": {
     "duration": 1.779417,
     "end_time": "2023-08-13T17:57:58.298154",
     "exception": false,
     "start_time": "2023-08-13T17:57:56.518737",
     "status": "completed"
    },
    "tags": []
   },
   "outputs": [
    {
     "data": {
      "image/png": "[encoded data removed]",
      "text/plain": [
       "<Figure size 640x480 with 2 Axes>"
      ]
     },
     "metadata": {},
     "output_type": "display_data"
    }
   ],
   "source": [
    "#check merged test dataset null values graphically\n",
    "#in test datset also null values distributed throughout the datsets.\n",
    "#white patches in graph indicatin the null values in respective feature\n",
    "sns.heatmap(df_test_merged.isnull())\n",
    "plt.show()"
   ]
  },
  {
   "cell_type": "markdown",
   "id": "ee6ef84f",
   "metadata": {
    "papermill": {
     "duration": 0.035025,
     "end_time": "2023-08-13T17:57:58.369461",
     "exception": false,
     "start_time": "2023-08-13T17:57:58.334436",
     "status": "completed"
    },
    "tags": []
   },
   "source": [
    "#### Check for class imbalance"
   ]
  },
  {
   "cell_type": "code",
   "execution_count": 20,
   "id": "1f0d8801",
   "metadata": {
    "execution": {
     "iopub.execute_input": "2023-08-13T17:57:58.442941Z",
     "iopub.status.busy": "2023-08-13T17:57:58.442466Z",
     "iopub.status.idle": "2023-08-13T17:57:58.476495Z",
     "shell.execute_reply": "2023-08-13T17:57:58.475228Z"
    },
    "papermill": {
     "duration": 0.073517,
     "end_time": "2023-08-13T17:57:58.479116",
     "exception": false,
     "start_time": "2023-08-13T17:57:58.405599",
     "status": "completed"
    },
    "tags": []
   },
   "outputs": [
    {
     "data": {
      "text/plain": [
       "POSITIVE    66.823751\n",
       "NEGATIVE    33.176249\n",
       "Name: sentiment, dtype: float64"
      ]
     },
     "execution_count": 20,
     "metadata": {},
     "output_type": "execute_result"
    }
   ],
   "source": [
    "#extreme class imbalances can lead to biased model performance.\n",
    "#A significant imbalance can cause a model to be overly biased toward the majority class,\n",
    "#resulting in poor performance on the minority class.\n",
    "#check label column class imbalance; here label column has 67% positive class values and 33% negative class values,\n",
    "#it means datset is imbalance \n",
    "#class imbalance can be solved by many ways such as SMOTE, undersampling, oversampling\n",
    "\n",
    "\n",
    "df_train_merged['sentiment'].value_counts()/df_train_merged['sentiment'].shape[0]*100"
   ]
  },
  {
   "cell_type": "code",
   "execution_count": 21,
   "id": "2bd227ef",
   "metadata": {
    "execution": {
     "iopub.execute_input": "2023-08-13T17:57:58.552662Z",
     "iopub.status.busy": "2023-08-13T17:57:58.552195Z",
     "iopub.status.idle": "2023-08-13T17:57:58.908052Z",
     "shell.execute_reply": "2023-08-13T17:57:58.906786Z"
    },
    "papermill": {
     "duration": 0.395633,
     "end_time": "2023-08-13T17:57:58.911027",
     "exception": false,
     "start_time": "2023-08-13T17:57:58.515394",
     "status": "completed"
    },
    "tags": []
   },
   "outputs": [
    {
     "data": {
      "text/plain": [
       "Text(0.5, 1.0, 'Histogram Chart')"
      ]
     },
     "execution_count": 21,
     "metadata": {},
     "output_type": "execute_result"
    },
    {
     "data": {
      "image/png": "[encoded data removed]",
      "text/plain": [
       "<Figure size 640x480 with 1 Axes>"
      ]
     },
     "metadata": {},
     "output_type": "display_data"
    }
   ],
   "source": [
    "plt.hist(df_train_merged['sentiment'], bins=3, edgecolor='black', color='gray')\n",
    "# Add labels and title\n",
    "plt.xlabel('class')\n",
    "plt.ylabel('Frequency')\n",
    "plt.title( 'Histogram Chart', )"
   ]
  },
  {
   "cell_type": "markdown",
   "id": "0cb7c145",
   "metadata": {
    "papermill": {
     "duration": 0.035716,
     "end_time": "2023-08-13T17:57:58.983056",
     "exception": false,
     "start_time": "2023-08-13T17:57:58.947340",
     "status": "completed"
    },
    "tags": []
   },
   "source": [
    "## Feature Engineering"
   ]
  },
  {
   "cell_type": "markdown",
   "id": "8b1f8a23",
   "metadata": {
    "papermill": {
     "duration": 0.036886,
     "end_time": "2023-08-13T17:57:59.057018",
     "exception": false,
     "start_time": "2023-08-13T17:57:59.020132",
     "status": "completed"
    },
    "tags": []
   },
   "source": [
    "#### performed below feature engineering type on datasets before fitting to model\n",
    "#### 1.Feature construction\n",
    "#### 2.Features Selection\n",
    "#### 3.Feature Transformation ( Data preprocessing )"
   ]
  },
  {
   "cell_type": "markdown",
   "id": "4dea66fe",
   "metadata": {
    "papermill": {
     "duration": 0.035432,
     "end_time": "2023-08-13T17:57:59.129355",
     "exception": false,
     "start_time": "2023-08-13T17:57:59.093923",
     "status": "completed"
    },
    "tags": []
   },
   "source": [
    "#### In merged test datasets the feature name \"isTopCritic\" has same values that available in train merged \"isFrequentReviewer\" feature, hence changing its name for easy understanding."
   ]
  },
  {
   "cell_type": "code",
   "execution_count": 22,
   "id": "a56e41aa",
   "metadata": {
    "execution": {
     "iopub.execute_input": "2023-08-13T17:57:59.206509Z",
     "iopub.status.busy": "2023-08-13T17:57:59.205604Z",
     "iopub.status.idle": "2023-08-13T17:57:59.211463Z",
     "shell.execute_reply": "2023-08-13T17:57:59.210400Z"
    },
    "papermill": {
     "duration": 0.047416,
     "end_time": "2023-08-13T17:57:59.213982",
     "exception": false,
     "start_time": "2023-08-13T17:57:59.166566",
     "status": "completed"
    },
    "tags": []
   },
   "outputs": [],
   "source": [
    "#change feature name\n",
    "df_test_merged.rename(columns={'isTopCritic':'isFrequentReviewer'},inplace=True)"
   ]
  },
  {
   "cell_type": "code",
   "execution_count": 23,
   "id": "22c32e0b",
   "metadata": {
    "execution": {
     "iopub.execute_input": "2023-08-13T17:57:59.288548Z",
     "iopub.status.busy": "2023-08-13T17:57:59.288056Z",
     "iopub.status.idle": "2023-08-13T17:57:59.296173Z",
     "shell.execute_reply": "2023-08-13T17:57:59.294952Z"
    },
    "papermill": {
     "duration": 0.047723,
     "end_time": "2023-08-13T17:57:59.298613",
     "exception": false,
     "start_time": "2023-08-13T17:57:59.250890",
     "status": "completed"
    },
    "tags": []
   },
   "outputs": [
    {
     "data": {
      "text/plain": [
       "Index(['movieid', 'reviewerName', 'isFrequentReviewer', 'reviewText', 'title',\n",
       "       'audienceScore', 'rating', 'ratingContents', 'releaseDateTheaters',\n",
       "       'releaseDateStreaming', 'runtimeMinutes', 'genre', 'originalLanguage',\n",
       "       'director', 'boxOffice', 'distributor', 'soundType'],\n",
       "      dtype='object')"
      ]
     },
     "execution_count": 23,
     "metadata": {},
     "output_type": "execute_result"
    }
   ],
   "source": [
    "#check test datset after renaming 'isTopCritic'  with 'isFrequentReviewer'\n",
    "df_test_merged.columns"
   ]
  },
  {
   "cell_type": "markdown",
   "id": "ea25a2e7",
   "metadata": {
    "papermill": {
     "duration": 0.036466,
     "end_time": "2023-08-13T17:57:59.370832",
     "exception": false,
     "start_time": "2023-08-13T17:57:59.334366",
     "status": "completed"
    },
    "tags": []
   },
   "source": [
    "#### drop features from dataset that has less useful to the sentiment polarity learning"
   ]
  },
  {
   "cell_type": "code",
   "execution_count": 24,
   "id": "6889cc27",
   "metadata": {
    "execution": {
     "iopub.execute_input": "2023-08-13T17:57:59.444330Z",
     "iopub.status.busy": "2023-08-13T17:57:59.443841Z",
     "iopub.status.idle": "2023-08-13T17:57:59.484479Z",
     "shell.execute_reply": "2023-08-13T17:57:59.483498Z"
    },
    "papermill": {
     "duration": 0.080605,
     "end_time": "2023-08-13T17:57:59.487095",
     "exception": false,
     "start_time": "2023-08-13T17:57:59.406490",
     "status": "completed"
    },
    "tags": []
   },
   "outputs": [],
   "source": [
    "#drop those categorical columns from datsets which are not relevent for making sentiment about movies\n",
    "#this can be achieved by understanding actual content in features and domain knowledge.\n",
    "#for numerical features it can be achieved by correlation metrix\n",
    "\n",
    "train_merged=df_train_merged.drop(['movieid','sentiment',\n",
    "                     'releaseDateTheaters', 'releaseDateStreaming'], axis=1)\n",
    "\n",
    "#drop less relevent columns from test dataset\n",
    "test_merged=df_test_merged.drop(['movieid',\n",
    "                     'releaseDateTheaters', 'releaseDateStreaming'], axis=1)"
   ]
  },
  {
   "cell_type": "code",
   "execution_count": 25,
   "id": "115cb683",
   "metadata": {
    "execution": {
     "iopub.execute_input": "2023-08-13T17:57:59.563147Z",
     "iopub.status.busy": "2023-08-13T17:57:59.562051Z",
     "iopub.status.idle": "2023-08-13T17:57:59.584430Z",
     "shell.execute_reply": "2023-08-13T17:57:59.583259Z"
    },
    "papermill": {
     "duration": 0.064097,
     "end_time": "2023-08-13T17:57:59.587088",
     "exception": false,
     "start_time": "2023-08-13T17:57:59.522991",
     "status": "completed"
    },
    "tags": []
   },
   "outputs": [
    {
     "data": {
      "text/html": [
       "<div>\n",
       "<style scoped>\n",
       "    .dataframe tbody tr th:only-of-type {\n",
       "        vertical-align: middle;\n",
       "    }\n",
       "\n",
       "    .dataframe tbody tr th {\n",
       "        vertical-align: top;\n",
       "    }\n",
       "\n",
       "    .dataframe thead th {\n",
       "        text-align: right;\n",
       "    }\n",
       "</style>\n",
       "<table border=\"1\" class=\"dataframe\">\n",
       "  <thead>\n",
       "    <tr style=\"text-align: right;\">\n",
       "      <th></th>\n",
       "      <th>reviewerName</th>\n",
       "      <th>isFrequentReviewer</th>\n",
       "      <th>reviewText</th>\n",
       "      <th>title</th>\n",
       "      <th>audienceScore</th>\n",
       "      <th>rating</th>\n",
       "      <th>ratingContents</th>\n",
       "      <th>runtimeMinutes</th>\n",
       "      <th>genre</th>\n",
       "      <th>originalLanguage</th>\n",
       "      <th>director</th>\n",
       "      <th>boxOffice</th>\n",
       "      <th>distributor</th>\n",
       "      <th>soundType</th>\n",
       "    </tr>\n",
       "  </thead>\n",
       "  <tbody>\n",
       "    <tr>\n",
       "      <th>0</th>\n",
       "      <td>John Kim</td>\n",
       "      <td>False</td>\n",
       "      <td>Green slowly cranks up the dread with style an...</td>\n",
       "      <td>Legend Marty McFly Oracle</td>\n",
       "      <td>57.0</td>\n",
       "      <td>R</td>\n",
       "      <td>['Gore', 'Bloody Horror Violence', 'Language T...</td>\n",
       "      <td>111.0</td>\n",
       "      <td>Holiday, Horror, Mystery &amp; thriller</td>\n",
       "      <td>English</td>\n",
       "      <td>Sara Barnett</td>\n",
       "      <td>$64.0M</td>\n",
       "      <td>Universal Pictures</td>\n",
       "      <td>Dolby Atmos</td>\n",
       "    </tr>\n",
       "    <tr>\n",
       "      <th>1</th>\n",
       "      <td>Brian Chaney</td>\n",
       "      <td>False</td>\n",
       "      <td>Philip Noyce's direction is elegant and unforc...</td>\n",
       "      <td>Terminator Katniss Everdeen Glimmer</td>\n",
       "      <td>86.0</td>\n",
       "      <td>PG</td>\n",
       "      <td>['Emotional Thematic Material']</td>\n",
       "      <td>94.0</td>\n",
       "      <td>Drama, Adventure</td>\n",
       "      <td>English</td>\n",
       "      <td>Cindy Flander</td>\n",
       "      <td>$6.2M</td>\n",
       "      <td>Miramax Films</td>\n",
       "      <td>Dolby SR, DTS, Dolby Stereo, Surround, SDDS, D...</td>\n",
       "    </tr>\n",
       "    <tr>\n",
       "      <th>2</th>\n",
       "      <td>Danielle Parker</td>\n",
       "      <td>False</td>\n",
       "      <td>It wouldn't do to say what path Maria ultimate...</td>\n",
       "      <td>James Bond Labyrinth Gollum</td>\n",
       "      <td>62.0</td>\n",
       "      <td>NaN</td>\n",
       "      <td>NaN</td>\n",
       "      <td>NaN</td>\n",
       "      <td>Drama</td>\n",
       "      <td>French</td>\n",
       "      <td>Charlotte Bramble</td>\n",
       "      <td>NaN</td>\n",
       "      <td>NaN</td>\n",
       "      <td>NaN</td>\n",
       "    </tr>\n",
       "  </tbody>\n",
       "</table>\n",
       "</div>"
      ],
      "text/plain": [
       "      reviewerName  isFrequentReviewer  \\\n",
       "0         John Kim               False   \n",
       "1     Brian Chaney               False   \n",
       "2  Danielle Parker               False   \n",
       "\n",
       "                                          reviewText  \\\n",
       "0  Green slowly cranks up the dread with style an...   \n",
       "1  Philip Noyce's direction is elegant and unforc...   \n",
       "2  It wouldn't do to say what path Maria ultimate...   \n",
       "\n",
       "                                 title  audienceScore rating  \\\n",
       "0            Legend Marty McFly Oracle           57.0      R   \n",
       "1  Terminator Katniss Everdeen Glimmer           86.0     PG   \n",
       "2          James Bond Labyrinth Gollum           62.0    NaN   \n",
       "\n",
       "                                      ratingContents  runtimeMinutes  \\\n",
       "0  ['Gore', 'Bloody Horror Violence', 'Language T...           111.0   \n",
       "1                    ['Emotional Thematic Material']            94.0   \n",
       "2                                                NaN             NaN   \n",
       "\n",
       "                                 genre originalLanguage           director  \\\n",
       "0  Holiday, Horror, Mystery & thriller          English       Sara Barnett   \n",
       "1                     Drama, Adventure          English      Cindy Flander   \n",
       "2                                Drama           French  Charlotte Bramble   \n",
       "\n",
       "  boxOffice         distributor  \\\n",
       "0    $64.0M  Universal Pictures   \n",
       "1     $6.2M       Miramax Films   \n",
       "2       NaN                 NaN   \n",
       "\n",
       "                                           soundType  \n",
       "0                                        Dolby Atmos  \n",
       "1  Dolby SR, DTS, Dolby Stereo, Surround, SDDS, D...  \n",
       "2                                                NaN  "
      ]
     },
     "execution_count": 25,
     "metadata": {},
     "output_type": "execute_result"
    }
   ],
   "source": [
    "test_merged.head(3)"
   ]
  },
  {
   "cell_type": "markdown",
   "id": "507958ec",
   "metadata": {
    "papermill": {
     "duration": 0.036328,
     "end_time": "2023-08-13T17:57:59.659819",
     "exception": false,
     "start_time": "2023-08-13T17:57:59.623491",
     "status": "completed"
    },
    "tags": []
   },
   "source": [
    "#### 'Boxoffice' feature data type is string so need to extract the only numbers  "
   ]
  },
  {
   "cell_type": "code",
   "execution_count": 26,
   "id": "f709ff64",
   "metadata": {
    "execution": {
     "iopub.execute_input": "2023-08-13T17:57:59.735637Z",
     "iopub.status.busy": "2023-08-13T17:57:59.734540Z",
     "iopub.status.idle": "2023-08-13T17:57:59.759780Z",
     "shell.execute_reply": "2023-08-13T17:57:59.758388Z"
    },
    "papermill": {
     "duration": 0.066773,
     "end_time": "2023-08-13T17:57:59.762725",
     "exception": false,
     "start_time": "2023-08-13T17:57:59.695952",
     "status": "completed"
    },
    "tags": []
   },
   "outputs": [
    {
     "data": {
      "text/plain": [
       "array([nan, '$115.7M', '$7.6M', ..., '$210.0K', '$111.2K', '$799.4K'],\n",
       "      dtype=object)"
      ]
     },
     "execution_count": 26,
     "metadata": {},
     "output_type": "execute_result"
    }
   ],
   "source": [
    "#the data in boxoffice feature contains amount but in thousand and milllion term\n",
    "train_merged['boxOffice'].unique()"
   ]
  },
  {
   "cell_type": "code",
   "execution_count": 27,
   "id": "4eca7555",
   "metadata": {
    "execution": {
     "iopub.execute_input": "2023-08-13T17:57:59.838701Z",
     "iopub.status.busy": "2023-08-13T17:57:59.837968Z",
     "iopub.status.idle": "2023-08-13T17:57:59.886653Z",
     "shell.execute_reply": "2023-08-13T17:57:59.885361Z"
    },
    "papermill": {
     "duration": 0.090318,
     "end_time": "2023-08-13T17:57:59.889749",
     "exception": false,
     "start_time": "2023-08-13T17:57:59.799431",
     "status": "completed"
    },
    "tags": []
   },
   "outputs": [],
   "source": [
    "# some of the values are not in string type, first convert it into string\n",
    "train_merged['boxOffice']=train_merged['boxOffice'].astype(str)\n",
    "test_merged['boxOffice']=test_merged['boxOffice'].astype(str)\n"
   ]
  },
  {
   "cell_type": "code",
   "execution_count": 28,
   "id": "8ea02855",
   "metadata": {
    "execution": {
     "iopub.execute_input": "2023-08-13T17:57:59.965403Z",
     "iopub.status.busy": "2023-08-13T17:57:59.964566Z",
     "iopub.status.idle": "2023-08-13T17:58:55.186418Z",
     "shell.execute_reply": "2023-08-13T17:58:55.184942Z"
    },
    "papermill": {
     "duration": 55.26318,
     "end_time": "2023-08-13T17:58:55.189496",
     "exception": false,
     "start_time": "2023-08-13T17:57:59.926316",
     "status": "completed"
    },
    "tags": []
   },
   "outputs": [
    {
     "name": "stderr",
     "output_type": "stream",
     "text": [
      "/tmp/ipykernel_20/974928713.py:19: SettingWithCopyWarning: \n",
      "A value is trying to be set on a copy of a slice from a DataFrame\n",
      "\n",
      "See the caveats in the documentation: https://pandas.pydata.org/pandas-docs/stable/user_guide/indexing.html#returning-a-view-versus-a-copy\n",
      "  train_merged['boxOffice'][i]=str_to_int(train_merged['boxOffice'][i])\n"
     ]
    }
   ],
   "source": [
    "#here function str_to_int is defined for removing $ and replacing K and multiplying with 1000, replacing M and multiplying with 1000000\n",
    "\n",
    "def str_to_int(monetary_str):\n",
    "    multiplier = 1\n",
    "    if monetary_str[-1] == 'M':\n",
    "        multiplier = 1000000\n",
    "    elif monetary_str[-1] == 'K':\n",
    "        multiplier = 1000\n",
    "    else:\n",
    "        return None\n",
    "\n",
    "    value_str = monetary_str[1:-1]\n",
    "    value = float(value_str) * multiplier\n",
    "    return int(value)\n",
    "\n",
    "\n",
    "#aplly this function on boxoffice column of train merged dataset\n",
    "for i in range(train_merged['boxOffice'].shape[0]):\n",
    "    train_merged['boxOffice'][i]=str_to_int(train_merged['boxOffice'][i])\n",
    "    "
   ]
  },
  {
   "cell_type": "code",
   "execution_count": 29,
   "id": "4e613082",
   "metadata": {
    "execution": {
     "iopub.execute_input": "2023-08-13T17:58:55.265999Z",
     "iopub.status.busy": "2023-08-13T17:58:55.265568Z",
     "iopub.status.idle": "2023-08-13T17:59:14.517260Z",
     "shell.execute_reply": "2023-08-13T17:59:14.515676Z"
    },
    "papermill": {
     "duration": 19.293169,
     "end_time": "2023-08-13T17:59:14.520243",
     "exception": false,
     "start_time": "2023-08-13T17:58:55.227074",
     "status": "completed"
    },
    "tags": []
   },
   "outputs": [
    {
     "name": "stderr",
     "output_type": "stream",
     "text": [
      "/tmp/ipykernel_20/1012501018.py:4: SettingWithCopyWarning: \n",
      "A value is trying to be set on a copy of a slice from a DataFrame\n",
      "\n",
      "See the caveats in the documentation: https://pandas.pydata.org/pandas-docs/stable/user_guide/indexing.html#returning-a-view-versus-a-copy\n",
      "  test_merged['boxOffice'][i]=str_to_int(test_merged['boxOffice'][i])\n"
     ]
    }
   ],
   "source": [
    "#aplly this function on boxoffice column of test merged dataset\n",
    "\n",
    "for i in range(test_merged['boxOffice'].shape[0]):\n",
    "    test_merged['boxOffice'][i]=str_to_int(test_merged['boxOffice'][i])"
   ]
  },
  {
   "cell_type": "code",
   "execution_count": 30,
   "id": "18298d75",
   "metadata": {
    "execution": {
     "iopub.execute_input": "2023-08-13T17:59:14.598383Z",
     "iopub.status.busy": "2023-08-13T17:59:14.597886Z",
     "iopub.status.idle": "2023-08-13T17:59:14.620520Z",
     "shell.execute_reply": "2023-08-13T17:59:14.619370Z"
    },
    "papermill": {
     "duration": 0.064776,
     "end_time": "2023-08-13T17:59:14.622964",
     "exception": false,
     "start_time": "2023-08-13T17:59:14.558188",
     "status": "completed"
    },
    "tags": []
   },
   "outputs": [
    {
     "data": {
      "text/html": [
       "<div>\n",
       "<style scoped>\n",
       "    .dataframe tbody tr th:only-of-type {\n",
       "        vertical-align: middle;\n",
       "    }\n",
       "\n",
       "    .dataframe tbody tr th {\n",
       "        vertical-align: top;\n",
       "    }\n",
       "\n",
       "    .dataframe thead th {\n",
       "        text-align: right;\n",
       "    }\n",
       "</style>\n",
       "<table border=\"1\" class=\"dataframe\">\n",
       "  <thead>\n",
       "    <tr style=\"text-align: right;\">\n",
       "      <th></th>\n",
       "      <th>reviewerName</th>\n",
       "      <th>isFrequentReviewer</th>\n",
       "      <th>reviewText</th>\n",
       "      <th>title</th>\n",
       "      <th>audienceScore</th>\n",
       "      <th>rating</th>\n",
       "      <th>ratingContents</th>\n",
       "      <th>runtimeMinutes</th>\n",
       "      <th>genre</th>\n",
       "      <th>originalLanguage</th>\n",
       "      <th>director</th>\n",
       "      <th>boxOffice</th>\n",
       "      <th>distributor</th>\n",
       "      <th>soundType</th>\n",
       "    </tr>\n",
       "  </thead>\n",
       "  <tbody>\n",
       "    <tr>\n",
       "      <th>0</th>\n",
       "      <td>Benjamin Henry</td>\n",
       "      <td>False</td>\n",
       "      <td>Henry Selick’s first movie since 2009’s Corali...</td>\n",
       "      <td>Marvelous Pirate</td>\n",
       "      <td>65.0</td>\n",
       "      <td>PG-13</td>\n",
       "      <td>['Violence', 'Brief Strong Language', 'Substan...</td>\n",
       "      <td>105.0</td>\n",
       "      <td>Comedy, Animation, Adventure, Fantasy</td>\n",
       "      <td>English</td>\n",
       "      <td>Bennie Basso</td>\n",
       "      <td>None</td>\n",
       "      <td>Netflix</td>\n",
       "      <td>NaN</td>\n",
       "    </tr>\n",
       "    <tr>\n",
       "      <th>1</th>\n",
       "      <td>Felicia Lopez</td>\n",
       "      <td>False</td>\n",
       "      <td>With a cast that reads like the Vogue Oscar pa...</td>\n",
       "      <td>Tony Montana Frodo Baggins V Rocky Balboa</td>\n",
       "      <td>NaN</td>\n",
       "      <td>NaN</td>\n",
       "      <td>NaN</td>\n",
       "      <td>91.0</td>\n",
       "      <td>Action</td>\n",
       "      <td>English</td>\n",
       "      <td>Alma White</td>\n",
       "      <td>None</td>\n",
       "      <td>NaN</td>\n",
       "      <td>NaN</td>\n",
       "    </tr>\n",
       "    <tr>\n",
       "      <th>2</th>\n",
       "      <td>Mr. Charles Burgess</td>\n",
       "      <td>True</td>\n",
       "      <td>Creed II does not give us anything but another...</td>\n",
       "      <td>Darth Vader Katniss Everdeen Sorcerer Donnie D...</td>\n",
       "      <td>80.0</td>\n",
       "      <td>PG-13</td>\n",
       "      <td>['Language', 'A Scene of Sensuality', 'Sports ...</td>\n",
       "      <td>130.0</td>\n",
       "      <td>Drama</td>\n",
       "      <td>English</td>\n",
       "      <td>Bobby Oleary</td>\n",
       "      <td>115700000</td>\n",
       "      <td>Warner Bros. Pictures, Metro-Goldwyn-Mayer</td>\n",
       "      <td>NaN</td>\n",
       "    </tr>\n",
       "    <tr>\n",
       "      <th>3</th>\n",
       "      <td>Ryan Barrett</td>\n",
       "      <td>False</td>\n",
       "      <td>I know what you're thinking, but this is no Li...</td>\n",
       "      <td>Lara Croft Glimmer</td>\n",
       "      <td>NaN</td>\n",
       "      <td>NaN</td>\n",
       "      <td>NaN</td>\n",
       "      <td>15.0</td>\n",
       "      <td>Drama</td>\n",
       "      <td>Spanish</td>\n",
       "      <td>Eric Hutcherson</td>\n",
       "      <td>None</td>\n",
       "      <td>NaN</td>\n",
       "      <td>NaN</td>\n",
       "    </tr>\n",
       "    <tr>\n",
       "      <th>4</th>\n",
       "      <td>Alexander Glover</td>\n",
       "      <td>False</td>\n",
       "      <td>Director Fernando Meirelles tells the story wi...</td>\n",
       "      <td>Jason Bourne Surreal The Terminator Indiana Jones</td>\n",
       "      <td>97.0</td>\n",
       "      <td>R</td>\n",
       "      <td>['Language', 'Drug Content', 'Sexuality', 'Str...</td>\n",
       "      <td>131.0</td>\n",
       "      <td>Crime, Drama</td>\n",
       "      <td>Portuguese (Brazil)</td>\n",
       "      <td>John Trent</td>\n",
       "      <td>7600000</td>\n",
       "      <td>Miramax Films</td>\n",
       "      <td>Surround, Dolby SR, Dolby Digital, Dolby A, Do...</td>\n",
       "    </tr>\n",
       "  </tbody>\n",
       "</table>\n",
       "</div>"
      ],
      "text/plain": [
       "          reviewerName  isFrequentReviewer  \\\n",
       "0       Benjamin Henry               False   \n",
       "1        Felicia Lopez               False   \n",
       "2  Mr. Charles Burgess                True   \n",
       "3         Ryan Barrett               False   \n",
       "4     Alexander Glover               False   \n",
       "\n",
       "                                          reviewText  \\\n",
       "0  Henry Selick’s first movie since 2009’s Corali...   \n",
       "1  With a cast that reads like the Vogue Oscar pa...   \n",
       "2  Creed II does not give us anything but another...   \n",
       "3  I know what you're thinking, but this is no Li...   \n",
       "4  Director Fernando Meirelles tells the story wi...   \n",
       "\n",
       "                                               title  audienceScore rating  \\\n",
       "0                                   Marvelous Pirate           65.0  PG-13   \n",
       "1          Tony Montana Frodo Baggins V Rocky Balboa            NaN    NaN   \n",
       "2  Darth Vader Katniss Everdeen Sorcerer Donnie D...           80.0  PG-13   \n",
       "3                                 Lara Croft Glimmer            NaN    NaN   \n",
       "4  Jason Bourne Surreal The Terminator Indiana Jones           97.0      R   \n",
       "\n",
       "                                      ratingContents  runtimeMinutes  \\\n",
       "0  ['Violence', 'Brief Strong Language', 'Substan...           105.0   \n",
       "1                                                NaN            91.0   \n",
       "2  ['Language', 'A Scene of Sensuality', 'Sports ...           130.0   \n",
       "3                                                NaN            15.0   \n",
       "4  ['Language', 'Drug Content', 'Sexuality', 'Str...           131.0   \n",
       "\n",
       "                                   genre     originalLanguage  \\\n",
       "0  Comedy, Animation, Adventure, Fantasy              English   \n",
       "1                                 Action              English   \n",
       "2                                  Drama              English   \n",
       "3                                  Drama              Spanish   \n",
       "4                           Crime, Drama  Portuguese (Brazil)   \n",
       "\n",
       "          director  boxOffice                                 distributor  \\\n",
       "0     Bennie Basso       None                                     Netflix   \n",
       "1       Alma White       None                                         NaN   \n",
       "2     Bobby Oleary  115700000  Warner Bros. Pictures, Metro-Goldwyn-Mayer   \n",
       "3  Eric Hutcherson       None                                         NaN   \n",
       "4       John Trent    7600000                               Miramax Films   \n",
       "\n",
       "                                           soundType  \n",
       "0                                                NaN  \n",
       "1                                                NaN  \n",
       "2                                                NaN  \n",
       "3                                                NaN  \n",
       "4  Surround, Dolby SR, Dolby Digital, Dolby A, Do...  "
      ]
     },
     "execution_count": 30,
     "metadata": {},
     "output_type": "execute_result"
    }
   ],
   "source": [
    "#check values in boxoffice column after applying str_to_int function\n",
    "train_merged.head()"
   ]
  },
  {
   "cell_type": "code",
   "execution_count": 31,
   "id": "d760fe2a",
   "metadata": {
    "execution": {
     "iopub.execute_input": "2023-08-13T17:59:14.699839Z",
     "iopub.status.busy": "2023-08-13T17:59:14.699388Z",
     "iopub.status.idle": "2023-08-13T17:59:14.730714Z",
     "shell.execute_reply": "2023-08-13T17:59:14.729202Z"
    },
    "papermill": {
     "duration": 0.073505,
     "end_time": "2023-08-13T17:59:14.733649",
     "exception": false,
     "start_time": "2023-08-13T17:59:14.660144",
     "status": "completed"
    },
    "tags": []
   },
   "outputs": [],
   "source": [
    "# # some of the values are not in string type, first convert it into string\n",
    "train_merged['boxOffice']=train_merged['boxOffice'].astype('float')\n",
    "test_merged['boxOffice']=test_merged['boxOffice'].astype('float')"
   ]
  },
  {
   "cell_type": "code",
   "execution_count": 32,
   "id": "143ef96c",
   "metadata": {
    "execution": {
     "iopub.execute_input": "2023-08-13T17:59:14.810752Z",
     "iopub.status.busy": "2023-08-13T17:59:14.810278Z",
     "iopub.status.idle": "2023-08-13T17:59:15.001855Z",
     "shell.execute_reply": "2023-08-13T17:59:15.000017Z"
    },
    "papermill": {
     "duration": 0.233847,
     "end_time": "2023-08-13T17:59:15.004854",
     "exception": false,
     "start_time": "2023-08-13T17:59:14.771007",
     "status": "completed"
    },
    "tags": []
   },
   "outputs": [
    {
     "name": "stdout",
     "output_type": "stream",
     "text": [
      "<class 'pandas.core.frame.DataFrame'>\n",
      "Int64Index: 55315 entries, 0 to 55314\n",
      "Data columns (total 14 columns):\n",
      " #   Column              Non-Null Count  Dtype  \n",
      "---  ------              --------------  -----  \n",
      " 0   reviewerName        55315 non-null  object \n",
      " 1   isFrequentReviewer  55315 non-null  bool   \n",
      " 2   reviewText          52805 non-null  object \n",
      " 3   title               55315 non-null  object \n",
      " 4   audienceScore       50384 non-null  float64\n",
      " 5   rating              31019 non-null  object \n",
      " 6   ratingContents      31019 non-null  object \n",
      " 7   runtimeMinutes      54053 non-null  float64\n",
      " 8   genre               54395 non-null  object \n",
      " 9   originalLanguage    54077 non-null  object \n",
      " 10  director            55315 non-null  object \n",
      " 11  boxOffice           35251 non-null  float64\n",
      " 12  distributor         39719 non-null  object \n",
      " 13  soundType           24689 non-null  object \n",
      "dtypes: bool(1), float64(3), object(10)\n",
      "memory usage: 8.0+ MB\n"
     ]
    }
   ],
   "source": [
    "#check boxoffice feature datatype after feature engineering\n",
    "test_merged.info()"
   ]
  },
  {
   "cell_type": "code",
   "execution_count": 33,
   "id": "2a5c1571",
   "metadata": {
    "execution": {
     "iopub.execute_input": "2023-08-13T17:59:15.083303Z",
     "iopub.status.busy": "2023-08-13T17:59:15.082203Z",
     "iopub.status.idle": "2023-08-13T17:59:15.206337Z",
     "shell.execute_reply": "2023-08-13T17:59:15.204995Z"
    },
    "papermill": {
     "duration": 0.167036,
     "end_time": "2023-08-13T17:59:15.209442",
     "exception": false,
     "start_time": "2023-08-13T17:59:15.042406",
     "status": "completed"
    },
    "tags": []
   },
   "outputs": [],
   "source": [
    "#segregate numerical, categorical and text feature of df_train dataset for preprocessing separately using pipeline\n",
    "#It is good practice to work separately with features with different datatypes which helps to avoid complexicity in coding.\n",
    "#apply on train datasets\n",
    "train_merged_cat=train_merged.drop(columns=['reviewText', 'audienceScore','ratingContents','title', 'runtimeMinutes', 'boxOffice'], axis=1)\n",
    "train_merged_num=train_merged[['audienceScore', 'runtimeMinutes', 'boxOffice']]\n",
    "train_merged_text=train_merged['reviewText']\n",
    "train_merged_text1=train_merged['ratingContents']\n",
    "train_merged_text2=train_merged['title']\n",
    "\n",
    "\n",
    "#apply on test datsets\n",
    "test_merged_cat=test_merged.drop(columns=['reviewText', 'audienceScore','ratingContents','title', 'runtimeMinutes', 'boxOffice'], axis=1)\n",
    "test_merged_num=test_merged[['audienceScore', 'runtimeMinutes', 'boxOffice']]\n",
    "test_merged_text=test_merged['reviewText']\n",
    "test_merged_text1=test_merged['ratingContents']\n",
    "test_merged_text2=test_merged['title']"
   ]
  },
  {
   "cell_type": "code",
   "execution_count": 34,
   "id": "bcabb90a",
   "metadata": {
    "execution": {
     "iopub.execute_input": "2023-08-13T17:59:15.288167Z",
     "iopub.status.busy": "2023-08-13T17:59:15.287659Z",
     "iopub.status.idle": "2023-08-13T17:59:15.295269Z",
     "shell.execute_reply": "2023-08-13T17:59:15.294125Z"
    },
    "papermill": {
     "duration": 0.048977,
     "end_time": "2023-08-13T17:59:15.297714",
     "exception": false,
     "start_time": "2023-08-13T17:59:15.248737",
     "status": "completed"
    },
    "tags": []
   },
   "outputs": [
    {
     "data": {
      "text/plain": [
       "(162758, 3)"
      ]
     },
     "execution_count": 34,
     "metadata": {},
     "output_type": "execute_result"
    }
   ],
   "source": [
    "train_merged_num.shape"
   ]
  },
  {
   "cell_type": "code",
   "execution_count": 35,
   "id": "1f0af280",
   "metadata": {
    "execution": {
     "iopub.execute_input": "2023-08-13T17:59:15.378787Z",
     "iopub.status.busy": "2023-08-13T17:59:15.378327Z",
     "iopub.status.idle": "2023-08-13T17:59:15.387495Z",
     "shell.execute_reply": "2023-08-13T17:59:15.386242Z"
    },
    "papermill": {
     "duration": 0.052645,
     "end_time": "2023-08-13T17:59:15.390009",
     "exception": false,
     "start_time": "2023-08-13T17:59:15.337364",
     "status": "completed"
    },
    "tags": []
   },
   "outputs": [
    {
     "data": {
      "text/plain": [
       "0    ['Violence', 'Brief Strong Language', 'Substan...\n",
       "1                                                  NaN\n",
       "2    ['Language', 'A Scene of Sensuality', 'Sports ...\n",
       "3                                                  NaN\n",
       "4    ['Language', 'Drug Content', 'Sexuality', 'Str...\n",
       "Name: ratingContents, dtype: object"
      ]
     },
     "execution_count": 35,
     "metadata": {},
     "output_type": "execute_result"
    }
   ],
   "source": [
    "train_merged_text1.head()"
   ]
  },
  {
   "cell_type": "markdown",
   "id": "2a757c10",
   "metadata": {
    "papermill": {
     "duration": 0.038768,
     "end_time": "2023-08-13T17:59:15.466281",
     "exception": false,
     "start_time": "2023-08-13T17:59:15.427513",
     "status": "completed"
    },
    "tags": []
   },
   "source": [
    "### Data Preprocessing"
   ]
  },
  {
   "cell_type": "code",
   "execution_count": 36,
   "id": "99d9e1e4",
   "metadata": {
    "execution": {
     "iopub.execute_input": "2023-08-13T17:59:15.544756Z",
     "iopub.status.busy": "2023-08-13T17:59:15.544309Z",
     "iopub.status.idle": "2023-08-13T17:59:15.576620Z",
     "shell.execute_reply": "2023-08-13T17:59:15.575386Z"
    },
    "papermill": {
     "duration": 0.073908,
     "end_time": "2023-08-13T17:59:15.579075",
     "exception": false,
     "start_time": "2023-08-13T17:59:15.505167",
     "status": "completed"
    },
    "tags": []
   },
   "outputs": [
    {
     "data": {
      "text/plain": [
       "POSITIVE    108761\n",
       "NEGATIVE     53997\n",
       "Name: sentiment, dtype: int64"
      ]
     },
     "execution_count": 36,
     "metadata": {},
     "output_type": "execute_result"
    }
   ],
   "source": [
    "#separate lebel column from features columns ## in lebl column 33.17% values are Negative and 66.83% values are Positive \n",
    "#i.e data is not balanced\n",
    "y=df_train_merged['sentiment']\n",
    "y.value_counts()"
   ]
  },
  {
   "cell_type": "code",
   "execution_count": 37,
   "id": "6eda7db6",
   "metadata": {
    "execution": {
     "iopub.execute_input": "2023-08-13T17:59:15.656427Z",
     "iopub.status.busy": "2023-08-13T17:59:15.655947Z",
     "iopub.status.idle": "2023-08-13T17:59:15.907825Z",
     "shell.execute_reply": "2023-08-13T17:59:15.906589Z"
    },
    "papermill": {
     "duration": 0.2944,
     "end_time": "2023-08-13T17:59:15.910961",
     "exception": false,
     "start_time": "2023-08-13T17:59:15.616561",
     "status": "completed"
    },
    "tags": []
   },
   "outputs": [],
   "source": [
    "#convert label y into numerical using label encode\n",
    "\n",
    "from sklearn.preprocessing import LabelEncoder\n",
    "\n",
    "le=LabelEncoder()\n",
    "y_enc=le.fit_transform(y)"
   ]
  },
  {
   "cell_type": "markdown",
   "id": "92ff36b0",
   "metadata": {
    "papermill": {
     "duration": 0.039756,
     "end_time": "2023-08-13T17:59:15.989746",
     "exception": false,
     "start_time": "2023-08-13T17:59:15.949990",
     "status": "completed"
    },
    "tags": []
   },
   "source": [
    "#### Make Separate pipeline for numerical , categorical and text data preprocessing"
   ]
  },
  {
   "cell_type": "code",
   "execution_count": 38,
   "id": "aba4985b",
   "metadata": {
    "execution": {
     "iopub.execute_input": "2023-08-13T17:59:16.069172Z",
     "iopub.status.busy": "2023-08-13T17:59:16.068695Z",
     "iopub.status.idle": "2023-08-13T17:59:16.076338Z",
     "shell.execute_reply": "2023-08-13T17:59:16.075389Z"
    },
    "papermill": {
     "duration": 0.051045,
     "end_time": "2023-08-13T17:59:16.078629",
     "exception": false,
     "start_time": "2023-08-13T17:59:16.027584",
     "status": "completed"
    },
    "tags": []
   },
   "outputs": [
    {
     "data": {
      "text/plain": [
       "Index(['reviewerName', 'isFrequentReviewer', 'reviewText', 'title',\n",
       "       'audienceScore', 'rating', 'ratingContents', 'runtimeMinutes', 'genre',\n",
       "       'originalLanguage', 'director', 'boxOffice', 'distributor',\n",
       "       'soundType'],\n",
       "      dtype='object')"
      ]
     },
     "execution_count": 38,
     "metadata": {},
     "output_type": "execute_result"
    }
   ],
   "source": [
    "train_merged.columns"
   ]
  },
  {
   "cell_type": "code",
   "execution_count": 39,
   "id": "29adc62e",
   "metadata": {
    "execution": {
     "iopub.execute_input": "2023-08-13T17:59:16.156967Z",
     "iopub.status.busy": "2023-08-13T17:59:16.156520Z",
     "iopub.status.idle": "2023-08-13T17:59:18.103313Z",
     "shell.execute_reply": "2023-08-13T17:59:18.101913Z"
    },
    "papermill": {
     "duration": 1.989367,
     "end_time": "2023-08-13T17:59:18.106230",
     "exception": false,
     "start_time": "2023-08-13T17:59:16.116863",
     "status": "completed"
    },
    "tags": []
   },
   "outputs": [],
   "source": [
    "from sklearn.pipeline import make_pipeline\n",
    "from sklearn.impute import SimpleImputer\n",
    "from sklearn.preprocessing import OneHotEncoder, MinMaxScaler\n",
    "\n",
    "num_pipe= make_pipeline(SimpleImputer(strategy=\"median\"),MinMaxScaler())\n",
    "cat_pipe= make_pipeline(SimpleImputer(strategy=\"most_frequent\"),OneHotEncoder(handle_unknown=\"ignore\"))\n",
    "\n",
    "#fit and transform train dataset\n",
    "num_pipe_train_merged=num_pipe.fit_transform(train_merged_num)\n",
    "cat_pipe_train_merged=cat_pipe.fit_transform(train_merged_cat)\n",
    "\n",
    "# apply transform on test dataset\n",
    "num_pipe_test_merged=num_pipe.transform(test_merged_num)\n",
    "cat_pipe_test_merged=cat_pipe.transform(test_merged_cat)"
   ]
  },
  {
   "cell_type": "code",
   "execution_count": 40,
   "id": "7b6d2374",
   "metadata": {
    "execution": {
     "iopub.execute_input": "2023-08-13T17:59:18.183812Z",
     "iopub.status.busy": "2023-08-13T17:59:18.183387Z",
     "iopub.status.idle": "2023-08-13T17:59:18.190356Z",
     "shell.execute_reply": "2023-08-13T17:59:18.189228Z"
    },
    "papermill": {
     "duration": 0.048736,
     "end_time": "2023-08-13T17:59:18.192777",
     "exception": false,
     "start_time": "2023-08-13T17:59:18.144041",
     "status": "completed"
    },
    "tags": []
   },
   "outputs": [
    {
     "data": {
      "text/plain": [
       "(162758, 17267)"
      ]
     },
     "execution_count": 40,
     "metadata": {},
     "output_type": "execute_result"
    }
   ],
   "source": [
    "#check shape of categorical columns of train dataset after applying imputation and encoding\n",
    "cat_pipe_train_merged.shape"
   ]
  },
  {
   "cell_type": "code",
   "execution_count": 41,
   "id": "fe020173",
   "metadata": {
    "execution": {
     "iopub.execute_input": "2023-08-13T17:59:18.273142Z",
     "iopub.status.busy": "2023-08-13T17:59:18.271765Z",
     "iopub.status.idle": "2023-08-13T17:59:18.279715Z",
     "shell.execute_reply": "2023-08-13T17:59:18.278495Z"
    },
    "papermill": {
     "duration": 0.051058,
     "end_time": "2023-08-13T17:59:18.281918",
     "exception": false,
     "start_time": "2023-08-13T17:59:18.230860",
     "status": "completed"
    },
    "tags": []
   },
   "outputs": [
    {
     "data": {
      "text/plain": [
       "(55315, 17267)"
      ]
     },
     "execution_count": 41,
     "metadata": {},
     "output_type": "execute_result"
    }
   ],
   "source": [
    "\n",
    "#check shape of categorical columns of test dataset after applying imputation and encoding\n",
    "cat_pipe_test_merged.shape"
   ]
  },
  {
   "cell_type": "markdown",
   "id": "1960ced1",
   "metadata": {
    "papermill": {
     "duration": 0.038316,
     "end_time": "2023-08-13T17:59:18.359086",
     "exception": false,
     "start_time": "2023-08-13T17:59:18.320770",
     "status": "completed"
    },
    "tags": []
   },
   "source": [
    "### Convert text data into numeric using Tfidf Vectorizer"
   ]
  },
  {
   "cell_type": "markdown",
   "id": "57c21d5c",
   "metadata": {
    "papermill": {
     "duration": 0.037975,
     "end_time": "2023-08-13T17:59:18.435565",
     "exception": false,
     "start_time": "2023-08-13T17:59:18.397590",
     "status": "completed"
    },
    "tags": []
   },
   "source": [
    "##### Text data need to be convert into numeric, here Term frequency-Inverse Document Frequency(Tfidf) vectorizer method used"
   ]
  },
  {
   "cell_type": "code",
   "execution_count": 42,
   "id": "839ec4ef",
   "metadata": {
    "execution": {
     "iopub.execute_input": "2023-08-13T17:59:18.515263Z",
     "iopub.status.busy": "2023-08-13T17:59:18.514843Z",
     "iopub.status.idle": "2023-08-13T17:59:18.608662Z",
     "shell.execute_reply": "2023-08-13T17:59:18.607345Z"
    },
    "papermill": {
     "duration": 0.137254,
     "end_time": "2023-08-13T17:59:18.612080",
     "exception": false,
     "start_time": "2023-08-13T17:59:18.474826",
     "status": "completed"
    },
    "tags": []
   },
   "outputs": [],
   "source": [
    "#first replace nan value of train text data with empty string\n",
    "train_merged_text=train_merged_text.fillna('')\n",
    "train_merged_text1=train_merged_text1.fillna('')\n",
    "train_merged_text2=train_merged_text2.fillna('')\n",
    "\n",
    "\n",
    "#first replace nan value of train text data with empty string\n",
    "test_merged_text=test_merged_text.fillna('')\n",
    "test_merged_text1=test_merged_text1.fillna('')\n",
    "test_merged_text2=test_merged_text2.fillna('')"
   ]
  },
  {
   "cell_type": "code",
   "execution_count": 43,
   "id": "5e1dab2d",
   "metadata": {
    "execution": {
     "iopub.execute_input": "2023-08-13T17:59:18.691954Z",
     "iopub.status.busy": "2023-08-13T17:59:18.691220Z",
     "iopub.status.idle": "2023-08-13T17:59:47.743538Z",
     "shell.execute_reply": "2023-08-13T17:59:47.742558Z"
    },
    "papermill": {
     "duration": 29.095402,
     "end_time": "2023-08-13T17:59:47.746131",
     "exception": false,
     "start_time": "2023-08-13T17:59:18.650729",
     "status": "completed"
    },
    "tags": []
   },
   "outputs": [],
   "source": [
    "#converting text data into numerical \n",
    "from sklearn.feature_extraction.text import TfidfVectorizer\n",
    "\n",
    "vectorizer=TfidfVectorizer(max_features=100000, ngram_range=(1, 2))\n",
    "vectorizer1=TfidfVectorizer(ngram_range=(1, 6), max_features=30000 )\n",
    "vectorizer2=TfidfVectorizer(max_features=199)\n",
    "\n",
    "#apply vectorizer on train text data\n",
    "vct_text_train_merged=vectorizer.fit_transform(train_merged_text)\n",
    "vct_text_train_merged1=vectorizer1.fit_transform(train_merged_text1)\n",
    "vct_text_train_merged2=vectorizer2.fit_transform(train_merged_text2)\n",
    "\n",
    "#apply vectorizer on test text data\n",
    "vct_text_test_merged=vectorizer.transform(test_merged_text)\n",
    "vct_text_test_merged1=vectorizer1.transform(test_merged_text1)\n",
    "vct_text_test_merged2=vectorizer2.transform(test_merged_text2)"
   ]
  },
  {
   "cell_type": "code",
   "execution_count": 44,
   "id": "b23010d5",
   "metadata": {
    "execution": {
     "iopub.execute_input": "2023-08-13T17:59:47.824618Z",
     "iopub.status.busy": "2023-08-13T17:59:47.823932Z",
     "iopub.status.idle": "2023-08-13T17:59:47.830564Z",
     "shell.execute_reply": "2023-08-13T17:59:47.829500Z"
    },
    "papermill": {
     "duration": 0.048385,
     "end_time": "2023-08-13T17:59:47.832744",
     "exception": false,
     "start_time": "2023-08-13T17:59:47.784359",
     "status": "completed"
    },
    "tags": []
   },
   "outputs": [
    {
     "data": {
      "text/plain": [
       "(162758, 100000)"
      ]
     },
     "execution_count": 44,
     "metadata": {},
     "output_type": "execute_result"
    }
   ],
   "source": [
    "vct_text_train_merged.shape"
   ]
  },
  {
   "cell_type": "code",
   "execution_count": 45,
   "id": "f92f0bcb",
   "metadata": {
    "execution": {
     "iopub.execute_input": "2023-08-13T17:59:47.911620Z",
     "iopub.status.busy": "2023-08-13T17:59:47.910836Z",
     "iopub.status.idle": "2023-08-13T17:59:47.916823Z",
     "shell.execute_reply": "2023-08-13T17:59:47.915967Z"
    },
    "papermill": {
     "duration": 0.047726,
     "end_time": "2023-08-13T17:59:47.918996",
     "exception": false,
     "start_time": "2023-08-13T17:59:47.871270",
     "status": "completed"
    },
    "tags": []
   },
   "outputs": [
    {
     "data": {
      "text/plain": [
       "(55315, 199)"
      ]
     },
     "execution_count": 45,
     "metadata": {},
     "output_type": "execute_result"
    }
   ],
   "source": [
    "vct_text_test_merged2.shape"
   ]
  },
  {
   "cell_type": "markdown",
   "id": "6176c59d",
   "metadata": {
    "papermill": {
     "duration": 0.037867,
     "end_time": "2023-08-13T17:59:47.995553",
     "exception": false,
     "start_time": "2023-08-13T17:59:47.957686",
     "status": "completed"
    },
    "tags": []
   },
   "source": [
    "### Join numerical , categorical and text data data using hstack method"
   ]
  },
  {
   "cell_type": "code",
   "execution_count": 46,
   "id": "35955da2",
   "metadata": {
    "execution": {
     "iopub.execute_input": "2023-08-13T17:59:48.074561Z",
     "iopub.status.busy": "2023-08-13T17:59:48.073781Z",
     "iopub.status.idle": "2023-08-13T17:59:48.350833Z",
     "shell.execute_reply": "2023-08-13T17:59:48.349750Z"
    },
    "papermill": {
     "duration": 0.319883,
     "end_time": "2023-08-13T17:59:48.353531",
     "exception": false,
     "start_time": "2023-08-13T17:59:48.033648",
     "status": "completed"
    },
    "tags": []
   },
   "outputs": [],
   "source": [
    "# join transformed datasets\n",
    "import scipy.sparse as sp\n",
    "\n",
    "#join train transformed data\n",
    "concatenated_train_merged = sp.hstack([num_pipe_train_merged,cat_pipe_train_merged ,vct_text_train_merged, vct_text_train_merged1, vct_text_train_merged2])\n",
    "\n",
    "#join test transformed data\n",
    "concatenated_test_merged = sp.hstack([num_pipe_test_merged,cat_pipe_test_merged ,vct_text_test_merged, vct_text_test_merged1, vct_text_test_merged2])"
   ]
  },
  {
   "cell_type": "code",
   "execution_count": 47,
   "id": "7cf3d2f4",
   "metadata": {
    "execution": {
     "iopub.execute_input": "2023-08-13T17:59:48.433498Z",
     "iopub.status.busy": "2023-08-13T17:59:48.432740Z",
     "iopub.status.idle": "2023-08-13T17:59:48.438675Z",
     "shell.execute_reply": "2023-08-13T17:59:48.437850Z"
    },
    "papermill": {
     "duration": 0.047707,
     "end_time": "2023-08-13T17:59:48.440711",
     "exception": false,
     "start_time": "2023-08-13T17:59:48.393004",
     "status": "completed"
    },
    "tags": []
   },
   "outputs": [
    {
     "data": {
      "text/plain": [
       "(162758, 147469)"
      ]
     },
     "execution_count": 47,
     "metadata": {},
     "output_type": "execute_result"
    }
   ],
   "source": [
    "concatenated_train_merged.shape"
   ]
  },
  {
   "cell_type": "code",
   "execution_count": 48,
   "id": "64a2d99d",
   "metadata": {
    "execution": {
     "iopub.execute_input": "2023-08-13T17:59:48.520156Z",
     "iopub.status.busy": "2023-08-13T17:59:48.519431Z",
     "iopub.status.idle": "2023-08-13T17:59:48.526287Z",
     "shell.execute_reply": "2023-08-13T17:59:48.525069Z"
    },
    "papermill": {
     "duration": 0.049725,
     "end_time": "2023-08-13T17:59:48.528648",
     "exception": false,
     "start_time": "2023-08-13T17:59:48.478923",
     "status": "completed"
    },
    "tags": []
   },
   "outputs": [
    {
     "data": {
      "text/plain": [
       "(55315, 147469)"
      ]
     },
     "execution_count": 48,
     "metadata": {},
     "output_type": "execute_result"
    }
   ],
   "source": [
    "concatenated_test_merged.shape"
   ]
  },
  {
   "cell_type": "markdown",
   "id": "2c0935b6",
   "metadata": {
    "papermill": {
     "duration": 0.038808,
     "end_time": "2023-08-13T17:59:48.606285",
     "exception": false,
     "start_time": "2023-08-13T17:59:48.567477",
     "status": "completed"
    },
    "tags": []
   },
   "source": [
    "### Visualizing correlation in numerical features and label column"
   ]
  },
  {
   "cell_type": "code",
   "execution_count": 49,
   "id": "0b789d6e",
   "metadata": {
    "execution": {
     "iopub.execute_input": "2023-08-13T17:59:48.686448Z",
     "iopub.status.busy": "2023-08-13T17:59:48.685265Z",
     "iopub.status.idle": "2023-08-13T17:59:49.167658Z",
     "shell.execute_reply": "2023-08-13T17:59:49.166477Z"
    },
    "papermill": {
     "duration": 0.524919,
     "end_time": "2023-08-13T17:59:49.169999",
     "exception": false,
     "start_time": "2023-08-13T17:59:48.645080",
     "status": "completed"
    },
    "tags": []
   },
   "outputs": [
    {
     "name": "stderr",
     "output_type": "stream",
     "text": [
      "/tmp/ipykernel_20/447012160.py:10: FutureWarning: The default value of numeric_only in DataFrame.corr is deprecated. In a future version, it will default to False. Select only valid columns or specify the value of numeric_only to silence this warning.\n",
      "  sns.heatmap(corr_df_x_train.corr(), annot=True, vmin=-0.25, vmax=1)\n"
     ]
    },
    {
     "data": {
      "text/plain": [
       "<Axes: >"
      ]
     },
     "execution_count": 49,
     "metadata": {},
     "output_type": "execute_result"
    },
    {
     "data": {
      "image/png": "[encoded data removed]",
      "text/plain": [
       "<Figure size 500x500 with 2 Axes>"
      ]
     },
     "metadata": {},
     "output_type": "display_data"
    }
   ],
   "source": [
    "#to show correlation of features with label column using heatmap\n",
    "#from this corr. heatmap we can infer that audience score has strong positive correlation (0.31) with sentiment (label column)\n",
    "#isFrequentReviewer column has negative correlation with sentiment about negative 0.051 which is very low correlated.\n",
    "#\n",
    "\n",
    "corr_df_x_train=train_merged\n",
    "corr_df_x_train['sentiment']=y_enc\n",
    "\n",
    "plt.figure(figsize=(5, 5))\n",
    "sns.heatmap(corr_df_x_train.corr(), annot=True, vmin=-0.25, vmax=1)"
   ]
  },
  {
   "cell_type": "code",
   "execution_count": 50,
   "id": "edbac7b1",
   "metadata": {
    "execution": {
     "iopub.execute_input": "2023-08-13T17:59:49.253986Z",
     "iopub.status.busy": "2023-08-13T17:59:49.253132Z",
     "iopub.status.idle": "2023-08-13T17:59:49.260155Z",
     "shell.execute_reply": "2023-08-13T17:59:49.259222Z"
    },
    "papermill": {
     "duration": 0.052195,
     "end_time": "2023-08-13T17:59:49.262372",
     "exception": false,
     "start_time": "2023-08-13T17:59:49.210177",
     "status": "completed"
    },
    "tags": []
   },
   "outputs": [
    {
     "data": {
      "text/plain": [
       "Index(['movieid', 'reviewerName', 'isFrequentReviewer', 'reviewText',\n",
       "       'sentiment', 'title', 'audienceScore', 'rating', 'ratingContents',\n",
       "       'releaseDateTheaters', 'releaseDateStreaming', 'runtimeMinutes',\n",
       "       'genre', 'originalLanguage', 'director', 'boxOffice', 'distributor',\n",
       "       'soundType'],\n",
       "      dtype='object')"
      ]
     },
     "execution_count": 50,
     "metadata": {},
     "output_type": "execute_result"
    }
   ],
   "source": [
    "df_train_merged.columns"
   ]
  },
  {
   "cell_type": "markdown",
   "id": "eb2e0a02",
   "metadata": {
    "papermill": {
     "duration": 0.040487,
     "end_time": "2023-08-13T17:59:49.344570",
     "exception": false,
     "start_time": "2023-08-13T17:59:49.304083",
     "status": "completed"
    },
    "tags": []
   },
   "source": [
    "### check outliers"
   ]
  },
  {
   "cell_type": "code",
   "execution_count": 51,
   "id": "49eaa569",
   "metadata": {
    "execution": {
     "iopub.execute_input": "2023-08-13T17:59:49.428620Z",
     "iopub.status.busy": "2023-08-13T17:59:49.427461Z",
     "iopub.status.idle": "2023-08-13T17:59:49.716067Z",
     "shell.execute_reply": "2023-08-13T17:59:49.714758Z"
    },
    "papermill": {
     "duration": 0.333174,
     "end_time": "2023-08-13T17:59:49.718720",
     "exception": false,
     "start_time": "2023-08-13T17:59:49.385546",
     "status": "completed"
    },
    "tags": []
   },
   "outputs": [
    {
     "data": {
      "text/plain": [
       "<Axes: >"
      ]
     },
     "execution_count": 51,
     "metadata": {},
     "output_type": "execute_result"
    },
    {
     "data": {
      "image/png": "[encoded data removed]",
      "text/plain": [
       "<Figure size 640x480 with 1 Axes>"
      ]
     },
     "metadata": {},
     "output_type": "display_data"
    }
   ],
   "source": [
    "#draw boxplot for numerical columns for checking outliers in audienceScore column and runtimeMinute\n",
    "\n",
    "sns.boxplot(corr_df_x_train[['audienceScore', 'runtimeMinutes']])"
   ]
  },
  {
   "cell_type": "markdown",
   "id": "fc610140",
   "metadata": {
    "papermill": {
     "duration": 0.039791,
     "end_time": "2023-08-13T17:59:49.799227",
     "exception": false,
     "start_time": "2023-08-13T17:59:49.759436",
     "status": "completed"
    },
    "tags": []
   },
   "source": [
    "## Feature Selection"
   ]
  },
  {
   "cell_type": "markdown",
   "id": "8a276de4",
   "metadata": {
    "papermill": {
     "duration": 0.040348,
     "end_time": "2023-08-13T17:59:49.879907",
     "exception": false,
     "start_time": "2023-08-13T17:59:49.839559",
     "status": "completed"
    },
    "tags": []
   },
   "source": [
    "#### Select best features using Select k Best features Selection method"
   ]
  },
  {
   "cell_type": "code",
   "execution_count": 52,
   "id": "5783b551",
   "metadata": {
    "execution": {
     "iopub.execute_input": "2023-08-13T17:59:49.963256Z",
     "iopub.status.busy": "2023-08-13T17:59:49.962086Z",
     "iopub.status.idle": "2023-08-13T17:59:51.833115Z",
     "shell.execute_reply": "2023-08-13T17:59:51.831659Z"
    },
    "papermill": {
     "duration": 1.916251,
     "end_time": "2023-08-13T17:59:51.836317",
     "exception": false,
     "start_time": "2023-08-13T17:59:49.920066",
     "status": "completed"
    },
    "tags": []
   },
   "outputs": [],
   "source": [
    "#select features \n",
    "from sklearn.feature_selection import SelectKBest, chi2\n",
    "\n",
    "k = 110000 # Number of top features to select\n",
    "selector = SelectKBest(score_func=chi2, k=k)\n",
    "\n",
    "#apply on train data\n",
    "train_merged_skb= selector.fit_transform(concatenated_train_merged, y_enc)\n",
    "\n",
    "#apply on test data\n",
    "test_merged_skb=selector.transform(concatenated_test_merged)"
   ]
  },
  {
   "cell_type": "code",
   "execution_count": 53,
   "id": "baf44b69",
   "metadata": {
    "execution": {
     "iopub.execute_input": "2023-08-13T17:59:51.919362Z",
     "iopub.status.busy": "2023-08-13T17:59:51.918892Z",
     "iopub.status.idle": "2023-08-13T17:59:51.926519Z",
     "shell.execute_reply": "2023-08-13T17:59:51.925382Z"
    },
    "papermill": {
     "duration": 0.052096,
     "end_time": "2023-08-13T17:59:51.928796",
     "exception": false,
     "start_time": "2023-08-13T17:59:51.876700",
     "status": "completed"
    },
    "tags": []
   },
   "outputs": [
    {
     "data": {
      "text/plain": [
       "(162758, 110000)"
      ]
     },
     "execution_count": 53,
     "metadata": {},
     "output_type": "execute_result"
    }
   ],
   "source": [
    "train_merged_skb.shape"
   ]
  },
  {
   "cell_type": "code",
   "execution_count": 54,
   "id": "508d7825",
   "metadata": {
    "execution": {
     "iopub.execute_input": "2023-08-13T17:59:52.012786Z",
     "iopub.status.busy": "2023-08-13T17:59:52.012046Z",
     "iopub.status.idle": "2023-08-13T17:59:52.018087Z",
     "shell.execute_reply": "2023-08-13T17:59:52.017330Z"
    },
    "papermill": {
     "duration": 0.050752,
     "end_time": "2023-08-13T17:59:52.020199",
     "exception": false,
     "start_time": "2023-08-13T17:59:51.969447",
     "status": "completed"
    },
    "tags": []
   },
   "outputs": [
    {
     "data": {
      "text/plain": [
       "(55315, 110000)"
      ]
     },
     "execution_count": 54,
     "metadata": {},
     "output_type": "execute_result"
    }
   ],
   "source": [
    "test_merged_skb.shape"
   ]
  },
  {
   "cell_type": "code",
   "execution_count": 55,
   "id": "9a24a7ff",
   "metadata": {
    "execution": {
     "iopub.execute_input": "2023-08-13T17:59:52.104705Z",
     "iopub.status.busy": "2023-08-13T17:59:52.103864Z",
     "iopub.status.idle": "2023-08-13T17:59:52.109730Z",
     "shell.execute_reply": "2023-08-13T17:59:52.108606Z"
    },
    "papermill": {
     "duration": 0.050736,
     "end_time": "2023-08-13T17:59:52.112157",
     "exception": false,
     "start_time": "2023-08-13T17:59:52.061421",
     "status": "completed"
    },
    "tags": []
   },
   "outputs": [],
   "source": [
    "X=train_merged_skb"
   ]
  },
  {
   "cell_type": "markdown",
   "id": "82145659",
   "metadata": {
    "papermill": {
     "duration": 0.042823,
     "end_time": "2023-08-13T17:59:52.195649",
     "exception": false,
     "start_time": "2023-08-13T17:59:52.152826",
     "status": "completed"
    },
    "tags": []
   },
   "source": [
    "### Spliting training dataset into training and validation data"
   ]
  },
  {
   "cell_type": "code",
   "execution_count": 56,
   "id": "d9699ce1",
   "metadata": {
    "execution": {
     "iopub.execute_input": "2023-08-13T17:59:52.279374Z",
     "iopub.status.busy": "2023-08-13T17:59:52.278793Z",
     "iopub.status.idle": "2023-08-13T17:59:52.404007Z",
     "shell.execute_reply": "2023-08-13T17:59:52.402946Z"
    },
    "papermill": {
     "duration": 0.170147,
     "end_time": "2023-08-13T17:59:52.406590",
     "exception": false,
     "start_time": "2023-08-13T17:59:52.236443",
     "status": "completed"
    },
    "tags": []
   },
   "outputs": [],
   "source": [
    "#split datasets into train and validation\n",
    "from sklearn.model_selection import train_test_split\n",
    "\n",
    "X_train, X_val, y_train, y_val=train_test_split(X, y_enc, test_size=0.2, stratify=y_enc, random_state=42)"
   ]
  },
  {
   "cell_type": "code",
   "execution_count": 57,
   "id": "1830dbd3",
   "metadata": {
    "execution": {
     "iopub.execute_input": "2023-08-13T17:59:52.490868Z",
     "iopub.status.busy": "2023-08-13T17:59:52.490046Z",
     "iopub.status.idle": "2023-08-13T17:59:52.498970Z",
     "shell.execute_reply": "2023-08-13T17:59:52.497862Z"
    },
    "papermill": {
     "duration": 0.054216,
     "end_time": "2023-08-13T17:59:52.501831",
     "exception": false,
     "start_time": "2023-08-13T17:59:52.447615",
     "status": "completed"
    },
    "tags": []
   },
   "outputs": [
    {
     "data": {
      "text/plain": [
       "((130206, 110000), (32552, 110000), (130206,), (32552,))"
      ]
     },
     "execution_count": 57,
     "metadata": {},
     "output_type": "execute_result"
    }
   ],
   "source": [
    "#check shape\n",
    "X_train.shape, X_val.shape, y_train.shape, y_val.shape"
   ]
  },
  {
   "cell_type": "markdown",
   "id": "5d696bff",
   "metadata": {
    "papermill": {
     "duration": 0.041183,
     "end_time": "2023-08-13T17:59:52.584236",
     "exception": false,
     "start_time": "2023-08-13T17:59:52.543053",
     "status": "completed"
    },
    "tags": []
   },
   "source": [
    "### Select model-1 for training data :Logistic Regression"
   ]
  },
  {
   "cell_type": "code",
   "execution_count": 58,
   "id": "cdc97029",
   "metadata": {
    "execution": {
     "iopub.execute_input": "2023-08-13T17:59:52.667590Z",
     "iopub.status.busy": "2023-08-13T17:59:52.667130Z",
     "iopub.status.idle": "2023-08-13T18:14:16.123422Z",
     "shell.execute_reply": "2023-08-13T18:14:16.121686Z"
    },
    "papermill": {
     "duration": 863.501887,
     "end_time": "2023-08-13T18:14:16.126806",
     "exception": false,
     "start_time": "2023-08-13T17:59:52.624919",
     "status": "completed"
    },
    "tags": []
   },
   "outputs": [],
   "source": [
    "#train model 1 Logistic Regression\n",
    "import time \n",
    "lr_start=time.time()\n",
    "\n",
    "from sklearn.linear_model import LogisticRegression\n",
    "from sklearn.model_selection import RandomizedSearchCV\n",
    "\n",
    "#select hyperparameters for tunning\n",
    "param_grid_lr={\"C\":[10, 100], \"penalty\":[\"l1\",\"l2\"]} # l1 lasso l2 ridge\n",
    "\n",
    "#select estimator\n",
    "estimator_lr=LogisticRegression(max_iter=400, solver='liblinear')\n",
    " \n",
    "RandomizedSearchCV_lr=RandomizedSearchCV(estimator_lr, param_grid_lr, cv=5, n_jobs=-1, n_iter=4)\n",
    "#fit Gridsearch CV on train data\n",
    "\n",
    "RandomizedSearchCV_lr.fit(train_merged_skb, y_enc)\n",
    "\n",
    "lr_end=time.time()"
   ]
  },
  {
   "cell_type": "code",
   "execution_count": 59,
   "id": "ba9b85c0",
   "metadata": {
    "execution": {
     "iopub.execute_input": "2023-08-13T18:14:16.211251Z",
     "iopub.status.busy": "2023-08-13T18:14:16.210792Z",
     "iopub.status.idle": "2023-08-13T18:14:16.217867Z",
     "shell.execute_reply": "2023-08-13T18:14:16.216167Z"
    },
    "papermill": {
     "duration": 0.05293,
     "end_time": "2023-08-13T18:14:16.220732",
     "exception": false,
     "start_time": "2023-08-13T18:14:16.167802",
     "status": "completed"
    },
    "tags": []
   },
   "outputs": [
    {
     "name": "stdout",
     "output_type": "stream",
     "text": [
      "Computational_time_lr= 863.4475464820862\n"
     ]
    }
   ],
   "source": [
    "ct_lr=print(\"Computational_time_lr=\", lr_end-lr_start)"
   ]
  },
  {
   "cell_type": "code",
   "execution_count": 60,
   "id": "75f705fe",
   "metadata": {
    "execution": {
     "iopub.execute_input": "2023-08-13T18:14:16.308025Z",
     "iopub.status.busy": "2023-08-13T18:14:16.307568Z",
     "iopub.status.idle": "2023-08-13T18:14:16.320279Z",
     "shell.execute_reply": "2023-08-13T18:14:16.318795Z"
    },
    "papermill": {
     "duration": 0.059868,
     "end_time": "2023-08-13T18:14:16.323157",
     "exception": false,
     "start_time": "2023-08-13T18:14:16.263289",
     "status": "completed"
    },
    "tags": []
   },
   "outputs": [],
   "source": [
    "#make prediction on test data\n",
    "y_pred_lr=RandomizedSearchCV_lr.predict(X_val)"
   ]
  },
  {
   "cell_type": "code",
   "execution_count": 61,
   "id": "1f1ccc36",
   "metadata": {
    "execution": {
     "iopub.execute_input": "2023-08-13T18:14:16.408761Z",
     "iopub.status.busy": "2023-08-13T18:14:16.408322Z",
     "iopub.status.idle": "2023-08-13T18:14:16.415385Z",
     "shell.execute_reply": "2023-08-13T18:14:16.413831Z"
    },
    "papermill": {
     "duration": 0.052957,
     "end_time": "2023-08-13T18:14:16.418342",
     "exception": false,
     "start_time": "2023-08-13T18:14:16.365385",
     "status": "completed"
    },
    "tags": []
   },
   "outputs": [
    {
     "name": "stdout",
     "output_type": "stream",
     "text": [
      "Best Hyperparameters:  {'penalty': 'l2', 'C': 10}\n",
      "Best Accuracy:  0.8445422033121792\n"
     ]
    }
   ],
   "source": [
    "#best combination of hyperparameter\n",
    "print(\"Best Hyperparameters: \", RandomizedSearchCV_lr.best_params_)\n",
    "print(\"Best Accuracy: \", RandomizedSearchCV_lr.best_score_)"
   ]
  },
  {
   "cell_type": "code",
   "execution_count": 62,
   "id": "521dda1d",
   "metadata": {
    "execution": {
     "iopub.execute_input": "2023-08-13T18:14:16.503408Z",
     "iopub.status.busy": "2023-08-13T18:14:16.502969Z",
     "iopub.status.idle": "2023-08-13T18:14:16.527070Z",
     "shell.execute_reply": "2023-08-13T18:14:16.525874Z"
    },
    "papermill": {
     "duration": 0.070174,
     "end_time": "2023-08-13T18:14:16.529887",
     "exception": false,
     "start_time": "2023-08-13T18:14:16.459713",
     "status": "completed"
    },
    "tags": []
   },
   "outputs": [],
   "source": [
    "#calculating f1 score for log reg\n",
    "from sklearn.metrics import f1_score, accuracy_score\n",
    "\n",
    "accuraccy_lr=accuracy_score(y_val, y_pred_lr)\n",
    "f1_score_lr=f1_score(y_val, y_pred_lr, average=\"micro\")"
   ]
  },
  {
   "cell_type": "code",
   "execution_count": 63,
   "id": "23aeafae",
   "metadata": {
    "execution": {
     "iopub.execute_input": "2023-08-13T18:14:16.614271Z",
     "iopub.status.busy": "2023-08-13T18:14:16.613876Z",
     "iopub.status.idle": "2023-08-13T18:14:16.619919Z",
     "shell.execute_reply": "2023-08-13T18:14:16.618633Z"
    },
    "papermill": {
     "duration": 0.051416,
     "end_time": "2023-08-13T18:14:16.622549",
     "exception": false,
     "start_time": "2023-08-13T18:14:16.571133",
     "status": "completed"
    },
    "tags": []
   },
   "outputs": [
    {
     "name": "stdout",
     "output_type": "stream",
     "text": [
      "accuraccy_lr 0.9538891619562546\n",
      "f1_score_lr 0.9538891619562546\n"
     ]
    }
   ],
   "source": [
    "print('accuraccy_lr', accuraccy_lr)\n",
    "print('f1_score_lr', f1_score_lr)"
   ]
  },
  {
   "cell_type": "code",
   "execution_count": 64,
   "id": "987879df",
   "metadata": {
    "execution": {
     "iopub.execute_input": "2023-08-13T18:14:16.706959Z",
     "iopub.status.busy": "2023-08-13T18:14:16.706556Z",
     "iopub.status.idle": "2023-08-13T18:14:17.325951Z",
     "shell.execute_reply": "2023-08-13T18:14:17.324747Z"
    },
    "papermill": {
     "duration": 0.665062,
     "end_time": "2023-08-13T18:14:17.328899",
     "exception": false,
     "start_time": "2023-08-13T18:14:16.663837",
     "status": "completed"
    },
    "tags": []
   },
   "outputs": [
    {
     "data": {
      "image/png": "[encoded data removed]",
      "text/plain": [
       "<Figure size 640x480 with 2 Axes>"
      ]
     },
     "metadata": {},
     "output_type": "display_data"
    }
   ],
   "source": [
    "#create confusion matrix for log regression model\n",
    "from sklearn.metrics import confusion_matrix, ConfusionMatrixDisplay\n",
    "\n",
    "con_mat_lr = confusion_matrix(y_val, y_pred_lr)\n",
    "\n",
    "# Display the confusion matrix as a heatmap\n",
    "labels = ['Positive', 'Negative']\n",
    "disp = ConfusionMatrixDisplay(confusion_matrix=con_mat_lr, display_labels=labels)\n",
    "disp.plot(cmap='Reds', values_format='d')\n",
    "\n",
    "plt.title('Confusion Matrix')\n",
    "plt.show()"
   ]
  },
  {
   "cell_type": "code",
   "execution_count": 65,
   "id": "92aa6689",
   "metadata": {
    "execution": {
     "iopub.execute_input": "2023-08-13T18:14:17.415639Z",
     "iopub.status.busy": "2023-08-13T18:14:17.415189Z",
     "iopub.status.idle": "2023-08-13T18:14:17.483287Z",
     "shell.execute_reply": "2023-08-13T18:14:17.482036Z"
    },
    "papermill": {
     "duration": 0.114373,
     "end_time": "2023-08-13T18:14:17.486095",
     "exception": false,
     "start_time": "2023-08-13T18:14:17.371722",
     "status": "completed"
    },
    "tags": []
   },
   "outputs": [
    {
     "name": "stdout",
     "output_type": "stream",
     "text": [
      "              precision    recall  f1-score   support\n",
      "\n",
      "    POSITIVE       0.94      0.92      0.93     10800\n",
      "    NEGATIVE       0.96      0.97      0.97     21752\n",
      "\n",
      "    accuracy                           0.95     32552\n",
      "   macro avg       0.95      0.94      0.95     32552\n",
      "weighted avg       0.95      0.95      0.95     32552\n",
      "\n"
     ]
    }
   ],
   "source": [
    "#classification matrix for log regression\n",
    "from sklearn.metrics import classification_report\n",
    "\n",
    "target_names=['POSITIVE', 'NEGATIVE']\n",
    "report_lr = classification_report(y_val, y_pred_lr, target_names=target_names)\n",
    "print(report_lr)"
   ]
  },
  {
   "cell_type": "markdown",
   "id": "a6e71848",
   "metadata": {
    "papermill": {
     "duration": 0.041962,
     "end_time": "2023-08-13T18:14:17.571692",
     "exception": false,
     "start_time": "2023-08-13T18:14:17.529730",
     "status": "completed"
    },
    "tags": []
   },
   "source": [
    "### Select model-2 for training data :Multinomial Bayes Classifier"
   ]
  },
  {
   "cell_type": "code",
   "execution_count": 66,
   "id": "ea03e6c8",
   "metadata": {
    "execution": {
     "iopub.execute_input": "2023-08-13T18:14:17.660671Z",
     "iopub.status.busy": "2023-08-13T18:14:17.660231Z",
     "iopub.status.idle": "2023-08-13T18:14:22.643531Z",
     "shell.execute_reply": "2023-08-13T18:14:22.642371Z"
    },
    "papermill": {
     "duration": 5.030203,
     "end_time": "2023-08-13T18:14:22.646996",
     "exception": false,
     "start_time": "2023-08-13T18:14:17.616793",
     "status": "completed"
    },
    "tags": []
   },
   "outputs": [],
   "source": [
    "#train model-2 Multinomial Naive Bayes classifier\n",
    "mnb_start=time.time()\n",
    "\n",
    "from sklearn.naive_bayes import MultinomialNB\n",
    "from sklearn.model_selection import RandomizedSearchCV\n",
    "\n",
    "#select hyperparameters for tunning\n",
    "param_grid_mnb={'alpha': [0.00001, 0.0001,0.001,  0.01, 1.0],\n",
    "    'fit_prior': [True, False] }\n",
    "\n",
    "#select estimator\n",
    "estimator=MultinomialNB()\n",
    "RandomizedSearchCV_mnb=RandomizedSearchCV(estimator,param_grid_mnb, cv=4, scoring=\"accuracy\"  )\n",
    "\n",
    "#fit RandomizedSearchCV on train data\n",
    "RandomizedSearchCV_mnb.fit(train_merged_skb, y_enc)\n",
    "\n",
    "mnb_end=time.time()"
   ]
  },
  {
   "cell_type": "code",
   "execution_count": 67,
   "id": "333053eb",
   "metadata": {
    "execution": {
     "iopub.execute_input": "2023-08-13T18:14:22.733809Z",
     "iopub.status.busy": "2023-08-13T18:14:22.733354Z",
     "iopub.status.idle": "2023-08-13T18:14:22.738757Z",
     "shell.execute_reply": "2023-08-13T18:14:22.737916Z"
    },
    "papermill": {
     "duration": 0.052241,
     "end_time": "2023-08-13T18:14:22.741508",
     "exception": false,
     "start_time": "2023-08-13T18:14:22.689267",
     "status": "completed"
    },
    "tags": []
   },
   "outputs": [
    {
     "name": "stdout",
     "output_type": "stream",
     "text": [
      "Computational_time_mnb= 4.9763171672821045\n"
     ]
    }
   ],
   "source": [
    "ct_mnb=print(\"Computational_time_mnb=\", mnb_end-mnb_start)"
   ]
  },
  {
   "cell_type": "code",
   "execution_count": 68,
   "id": "d8d1ac3c",
   "metadata": {
    "execution": {
     "iopub.execute_input": "2023-08-13T18:14:22.829038Z",
     "iopub.status.busy": "2023-08-13T18:14:22.828624Z",
     "iopub.status.idle": "2023-08-13T18:14:22.846240Z",
     "shell.execute_reply": "2023-08-13T18:14:22.845009Z"
    },
    "papermill": {
     "duration": 0.06442,
     "end_time": "2023-08-13T18:14:22.849035",
     "exception": false,
     "start_time": "2023-08-13T18:14:22.784615",
     "status": "completed"
    },
    "tags": []
   },
   "outputs": [],
   "source": [
    "#make prediction on test data\n",
    "y_pred_mnb= RandomizedSearchCV_mnb.predict(X_val)"
   ]
  },
  {
   "cell_type": "code",
   "execution_count": 69,
   "id": "9e3770d5",
   "metadata": {
    "execution": {
     "iopub.execute_input": "2023-08-13T18:14:22.936824Z",
     "iopub.status.busy": "2023-08-13T18:14:22.935367Z",
     "iopub.status.idle": "2023-08-13T18:14:22.942257Z",
     "shell.execute_reply": "2023-08-13T18:14:22.940790Z"
    },
    "papermill": {
     "duration": 0.053636,
     "end_time": "2023-08-13T18:14:22.944873",
     "exception": false,
     "start_time": "2023-08-13T18:14:22.891237",
     "status": "completed"
    },
    "tags": []
   },
   "outputs": [
    {
     "name": "stdout",
     "output_type": "stream",
     "text": [
      "Best Hyperparameters:  {'fit_prior': True, 'alpha': 0.0001}\n",
      "Best Accuracy:  0.8041202312470472\n"
     ]
    }
   ],
   "source": [
    "#best combination of hyperparameter\n",
    "print(\"Best Hyperparameters: \", RandomizedSearchCV_mnb.best_params_)\n",
    "print(\"Best Accuracy: \", RandomizedSearchCV_mnb.best_score_)"
   ]
  },
  {
   "cell_type": "code",
   "execution_count": 70,
   "id": "d42120f3",
   "metadata": {
    "execution": {
     "iopub.execute_input": "2023-08-13T18:14:23.033727Z",
     "iopub.status.busy": "2023-08-13T18:14:23.033255Z",
     "iopub.status.idle": "2023-08-13T18:14:23.057809Z",
     "shell.execute_reply": "2023-08-13T18:14:23.056731Z"
    },
    "papermill": {
     "duration": 0.071423,
     "end_time": "2023-08-13T18:14:23.060477",
     "exception": false,
     "start_time": "2023-08-13T18:14:22.989054",
     "status": "completed"
    },
    "tags": []
   },
   "outputs": [],
   "source": [
    "#calculating f1 score for mnb classifier\n",
    "from sklearn.metrics import f1_score, accuracy_score\n",
    "\n",
    "accuraccy_mnb=accuracy_score(y_val, y_pred_mnb)\n",
    "f1_score_mnb=f1_score(y_val, y_pred_mnb, average=\"micro\")"
   ]
  },
  {
   "cell_type": "code",
   "execution_count": 71,
   "id": "83c3e555",
   "metadata": {
    "execution": {
     "iopub.execute_input": "2023-08-13T18:14:23.147249Z",
     "iopub.status.busy": "2023-08-13T18:14:23.146837Z",
     "iopub.status.idle": "2023-08-13T18:14:23.151759Z",
     "shell.execute_reply": "2023-08-13T18:14:23.151077Z"
    },
    "papermill": {
     "duration": 0.051413,
     "end_time": "2023-08-13T18:14:23.154556",
     "exception": false,
     "start_time": "2023-08-13T18:14:23.103143",
     "status": "completed"
    },
    "tags": []
   },
   "outputs": [
    {
     "name": "stdout",
     "output_type": "stream",
     "text": [
      "accuraccy_mnb 0.8537109855001229\n",
      "f1_score_mnb 0.8537109855001229\n"
     ]
    }
   ],
   "source": [
    "print('accuraccy_mnb', accuraccy_mnb)\n",
    "print('f1_score_mnb', f1_score_mnb)"
   ]
  },
  {
   "cell_type": "code",
   "execution_count": 72,
   "id": "ad82630c",
   "metadata": {
    "execution": {
     "iopub.execute_input": "2023-08-13T18:14:23.316422Z",
     "iopub.status.busy": "2023-08-13T18:14:23.316011Z",
     "iopub.status.idle": "2023-08-13T18:14:23.593731Z",
     "shell.execute_reply": "2023-08-13T18:14:23.592313Z"
    },
    "papermill": {
     "duration": 0.400861,
     "end_time": "2023-08-13T18:14:23.597577",
     "exception": false,
     "start_time": "2023-08-13T18:14:23.196716",
     "status": "completed"
    },
    "tags": []
   },
   "outputs": [
    {
     "data": {
      "image/png": "[encoded data removed]",
      "text/plain": [
       "<Figure size 640x480 with 2 Axes>"
      ]
     },
     "metadata": {},
     "output_type": "display_data"
    }
   ],
   "source": [
    "#create confusion matrix for Multinomial bayes classifier model\n",
    "from sklearn.metrics import confusion_matrix, ConfusionMatrixDisplay\n",
    "\n",
    "con_mat_mnb = confusion_matrix(y_val, y_pred_mnb)\n",
    "\n",
    "# Display the confusion matrix as a heatmap\n",
    "labels = ['Positive', 'Negative']\n",
    "disp = ConfusionMatrixDisplay(confusion_matrix=con_mat_mnb, display_labels=labels)\n",
    "disp.plot(cmap='Reds', values_format='d')\n",
    "\n",
    "plt.title('Confusion Matrix')\n",
    "plt.show()"
   ]
  },
  {
   "cell_type": "code",
   "execution_count": 73,
   "id": "90f308f8",
   "metadata": {
    "execution": {
     "iopub.execute_input": "2023-08-13T18:14:23.692112Z",
     "iopub.status.busy": "2023-08-13T18:14:23.691648Z",
     "iopub.status.idle": "2023-08-13T18:14:23.761652Z",
     "shell.execute_reply": "2023-08-13T18:14:23.760195Z"
    },
    "papermill": {
     "duration": 0.117372,
     "end_time": "2023-08-13T18:14:23.764135",
     "exception": false,
     "start_time": "2023-08-13T18:14:23.646763",
     "status": "completed"
    },
    "tags": []
   },
   "outputs": [
    {
     "name": "stdout",
     "output_type": "stream",
     "text": [
      "              precision    recall  f1-score   support\n",
      "\n",
      "    POSITIVE       0.78      0.78      0.78     10800\n",
      "    NEGATIVE       0.89      0.89      0.89     21752\n",
      "\n",
      "    accuracy                           0.85     32552\n",
      "   macro avg       0.83      0.84      0.84     32552\n",
      "weighted avg       0.85      0.85      0.85     32552\n",
      "\n"
     ]
    }
   ],
   "source": [
    "#classification matrix for Multinomial bayes classifier\n",
    "from sklearn.metrics import classification_report\n",
    "\n",
    "target_names=['POSITIVE', 'NEGATIVE']\n",
    "report_mnb = classification_report(y_val, y_pred_mnb, target_names=target_names)\n",
    "print(report_mnb)"
   ]
  },
  {
   "cell_type": "markdown",
   "id": "b4075f7e",
   "metadata": {
    "papermill": {
     "duration": 0.043476,
     "end_time": "2023-08-13T18:14:23.850822",
     "exception": false,
     "start_time": "2023-08-13T18:14:23.807346",
     "status": "completed"
    },
    "tags": []
   },
   "source": [
    "### Select model-3 for training data : Multilayer Perceptron Classifier"
   ]
  },
  {
   "cell_type": "code",
   "execution_count": 74,
   "id": "980e8973",
   "metadata": {
    "execution": {
     "iopub.execute_input": "2023-08-13T18:14:23.940089Z",
     "iopub.status.busy": "2023-08-13T18:14:23.939290Z",
     "iopub.status.idle": "2023-08-13T18:15:04.496546Z",
     "shell.execute_reply": "2023-08-13T18:15:04.489102Z"
    },
    "papermill": {
     "duration": 40.717993,
     "end_time": "2023-08-13T18:15:04.611984",
     "exception": false,
     "start_time": "2023-08-13T18:14:23.893991",
     "status": "completed"
    },
    "tags": []
   },
   "outputs": [
    {
     "name": "stderr",
     "output_type": "stream",
     "text": [
      "/opt/conda/lib/python3.10/site-packages/sklearn/model_selection/_search.py:305: UserWarning: The total space of parameters 2 is smaller than n_iter=3. Running 2 iterations. For exhaustive searches, use GridSearchCV.\n",
      "  warnings.warn(\n",
      "/opt/conda/lib/python3.10/site-packages/sklearn/neural_network/_multilayer_perceptron.py:686: ConvergenceWarning: Stochastic Optimizer: Maximum iterations (4) reached and the optimization hasn't converged yet.\n",
      "  warnings.warn(\n",
      "/opt/conda/lib/python3.10/site-packages/sklearn/neural_network/_multilayer_perceptron.py:686: ConvergenceWarning: Stochastic Optimizer: Maximum iterations (4) reached and the optimization hasn't converged yet.\n",
      "  warnings.warn(\n",
      "/opt/conda/lib/python3.10/site-packages/sklearn/neural_network/_multilayer_perceptron.py:686: ConvergenceWarning: Stochastic Optimizer: Maximum iterations (4) reached and the optimization hasn't converged yet.\n",
      "  warnings.warn(\n",
      "/opt/conda/lib/python3.10/site-packages/sklearn/neural_network/_multilayer_perceptron.py:686: ConvergenceWarning: Stochastic Optimizer: Maximum iterations (4) reached and the optimization hasn't converged yet.\n",
      "  warnings.warn(\n",
      "/opt/conda/lib/python3.10/site-packages/sklearn/neural_network/_multilayer_perceptron.py:686: ConvergenceWarning: Stochastic Optimizer: Maximum iterations (4) reached and the optimization hasn't converged yet.\n",
      "  warnings.warn(\n"
     ]
    }
   ],
   "source": [
    "#train model-3 Multi layer Perceptron Classifier\n",
    "from sklearn.model_selection import RandomizedSearchCV\n",
    "from sklearn.neural_network import MLPClassifier\n",
    "\n",
    "mlp_start=time.time()\n",
    "\n",
    "##slect parameter grid\n",
    "param_grid_mlp= {\n",
    "    'hidden_layer_sizes': [2],'activation': ['logistic', 'relu'],'alpha': [0.1]\n",
    "            }\n",
    "\n",
    "#create estimator\n",
    "estimator_mlp = MLPClassifier(max_iter=4)\n",
    "\n",
    "RandomizedSearchCV_mlp = RandomizedSearchCV(estimator_mlp, param_grid_mlp, cv=2, n_jobs=-1, n_iter=3)\n",
    "\n",
    "#fit Gridsearch CV on train data\n",
    "RandomizedSearchCV_mlp.fit(train_merged_skb, y_enc)\n",
    "\n",
    "mlp_end=time.time()"
   ]
  },
  {
   "cell_type": "code",
   "execution_count": 75,
   "id": "749c3281",
   "metadata": {
    "execution": {
     "iopub.execute_input": "2023-08-13T18:15:04.706241Z",
     "iopub.status.busy": "2023-08-13T18:15:04.705685Z",
     "iopub.status.idle": "2023-08-13T18:15:04.713440Z",
     "shell.execute_reply": "2023-08-13T18:15:04.712091Z"
    },
    "papermill": {
     "duration": 0.058389,
     "end_time": "2023-08-13T18:15:04.717094",
     "exception": false,
     "start_time": "2023-08-13T18:15:04.658705",
     "status": "completed"
    },
    "tags": []
   },
   "outputs": [
    {
     "name": "stdout",
     "output_type": "stream",
     "text": [
      "Computational_time_mlp= 40.51955842971802\n"
     ]
    }
   ],
   "source": [
    "ct_mlp=print(\"Computational_time_mlp=\", mlp_end-mlp_start)"
   ]
  },
  {
   "cell_type": "code",
   "execution_count": 76,
   "id": "97a73330",
   "metadata": {
    "execution": {
     "iopub.execute_input": "2023-08-13T18:15:04.809927Z",
     "iopub.status.busy": "2023-08-13T18:15:04.809031Z",
     "iopub.status.idle": "2023-08-13T18:15:04.849918Z",
     "shell.execute_reply": "2023-08-13T18:15:04.847833Z"
    },
    "papermill": {
     "duration": 0.091534,
     "end_time": "2023-08-13T18:15:04.854205",
     "exception": false,
     "start_time": "2023-08-13T18:15:04.762671",
     "status": "completed"
    },
    "tags": []
   },
   "outputs": [],
   "source": [
    "#make prediction on test data\n",
    "y_pred_mlp= RandomizedSearchCV_mlp.predict(X_val)"
   ]
  },
  {
   "cell_type": "code",
   "execution_count": 77,
   "id": "9a710020",
   "metadata": {
    "execution": {
     "iopub.execute_input": "2023-08-13T18:15:05.026053Z",
     "iopub.status.busy": "2023-08-13T18:15:05.025659Z",
     "iopub.status.idle": "2023-08-13T18:15:05.032949Z",
     "shell.execute_reply": "2023-08-13T18:15:05.031337Z"
    },
    "papermill": {
     "duration": 0.055647,
     "end_time": "2023-08-13T18:15:05.035354",
     "exception": false,
     "start_time": "2023-08-13T18:15:04.979707",
     "status": "completed"
    },
    "tags": []
   },
   "outputs": [
    {
     "name": "stdout",
     "output_type": "stream",
     "text": [
      "Best Hyperparameters:  {'hidden_layer_sizes': 2, 'alpha': 0.1, 'activation': 'relu'}\n",
      "Best Accuracy:  0.7339915703068359\n"
     ]
    }
   ],
   "source": [
    "#best combination of hyperparameter\n",
    "\n",
    "print(\"Best Hyperparameters: \", RandomizedSearchCV_mlp.best_params_)\n",
    "print(\"Best Accuracy: \", RandomizedSearchCV_mlp.best_score_)"
   ]
  },
  {
   "cell_type": "code",
   "execution_count": 78,
   "id": "cd61cf3b",
   "metadata": {
    "execution": {
     "iopub.execute_input": "2023-08-13T18:15:05.126195Z",
     "iopub.status.busy": "2023-08-13T18:15:05.125611Z",
     "iopub.status.idle": "2023-08-13T18:15:05.150308Z",
     "shell.execute_reply": "2023-08-13T18:15:05.149099Z"
    },
    "papermill": {
     "duration": 0.073376,
     "end_time": "2023-08-13T18:15:05.153135",
     "exception": false,
     "start_time": "2023-08-13T18:15:05.079759",
     "status": "completed"
    },
    "tags": []
   },
   "outputs": [],
   "source": [
    "#calculating f1 score for mnb classifier\n",
    "from sklearn.metrics import f1_score, accuracy_score\n",
    "\n",
    "accuraccy_mlp=accuracy_score(y_val, y_pred_mlp)\n",
    "f1_score_mlp=f1_score(y_val, y_pred_mlp, average=\"micro\")"
   ]
  },
  {
   "cell_type": "code",
   "execution_count": 79,
   "id": "b15adab2",
   "metadata": {
    "execution": {
     "iopub.execute_input": "2023-08-13T18:15:05.242962Z",
     "iopub.status.busy": "2023-08-13T18:15:05.242569Z",
     "iopub.status.idle": "2023-08-13T18:15:05.248161Z",
     "shell.execute_reply": "2023-08-13T18:15:05.247072Z"
    },
    "papermill": {
     "duration": 0.053281,
     "end_time": "2023-08-13T18:15:05.250567",
     "exception": false,
     "start_time": "2023-08-13T18:15:05.197286",
     "status": "completed"
    },
    "tags": []
   },
   "outputs": [
    {
     "name": "stdout",
     "output_type": "stream",
     "text": [
      "accuraccy_mlp 0.8199803391496682\n",
      "f1_score_mlp 0.8199803391496682\n"
     ]
    }
   ],
   "source": [
    "print('accuraccy_mlp', accuraccy_mlp)\n",
    "print('f1_score_mlp', f1_score_mlp)"
   ]
  },
  {
   "cell_type": "code",
   "execution_count": 80,
   "id": "0527344c",
   "metadata": {
    "execution": {
     "iopub.execute_input": "2023-08-13T18:15:05.342285Z",
     "iopub.status.busy": "2023-08-13T18:15:05.341778Z",
     "iopub.status.idle": "2023-08-13T18:15:05.409783Z",
     "shell.execute_reply": "2023-08-13T18:15:05.408439Z"
    },
    "papermill": {
     "duration": 0.11687,
     "end_time": "2023-08-13T18:15:05.412476",
     "exception": false,
     "start_time": "2023-08-13T18:15:05.295606",
     "status": "completed"
    },
    "tags": []
   },
   "outputs": [
    {
     "name": "stdout",
     "output_type": "stream",
     "text": [
      "              precision    recall  f1-score   support\n",
      "\n",
      "    POSITIVE       0.82      0.59      0.69     10800\n",
      "    NEGATIVE       0.82      0.93      0.87     21752\n",
      "\n",
      "    accuracy                           0.82     32552\n",
      "   macro avg       0.82      0.76      0.78     32552\n",
      "weighted avg       0.82      0.82      0.81     32552\n",
      "\n"
     ]
    }
   ],
   "source": [
    "#classification matrix for Multi layer Perceptron Classifier\n",
    "from sklearn.metrics import classification_report\n",
    "\n",
    "target_names=['POSITIVE', 'NEGATIVE']\n",
    "report_mnp = classification_report(y_val, y_pred_mlp, target_names=target_names)\n",
    "print(report_mnp)"
   ]
  },
  {
   "cell_type": "code",
   "execution_count": 81,
   "id": "ce5b7636",
   "metadata": {
    "execution": {
     "iopub.execute_input": "2023-08-13T18:15:05.504547Z",
     "iopub.status.busy": "2023-08-13T18:15:05.504061Z",
     "iopub.status.idle": "2023-08-13T18:15:05.836691Z",
     "shell.execute_reply": "2023-08-13T18:15:05.835373Z"
    },
    "papermill": {
     "duration": 0.382049,
     "end_time": "2023-08-13T18:15:05.839316",
     "exception": false,
     "start_time": "2023-08-13T18:15:05.457267",
     "status": "completed"
    },
    "tags": []
   },
   "outputs": [
    {
     "data": {
      "image/png": "[encoded data removed]",
      "text/plain": [
       "<Figure size 640x480 with 2 Axes>"
      ]
     },
     "metadata": {},
     "output_type": "display_data"
    }
   ],
   "source": [
    "#create confusion matrix for MLP model\n",
    "from sklearn.metrics import confusion_matrix, ConfusionMatrixDisplay\n",
    "\n",
    "con_mat_mlp = confusion_matrix(y_val, y_pred_mlp)\n",
    "\n",
    "# Display the confusion matrix as a heatmap\n",
    "labels = ['Positive', 'Negative']\n",
    "disp = ConfusionMatrixDisplay(confusion_matrix=con_mat_mlp, display_labels=labels)\n",
    "disp.plot(cmap='Reds', values_format='d')\n",
    "\n",
    "plt.title('Confusion Matrix')\n",
    "plt.show()"
   ]
  },
  {
   "cell_type": "code",
   "execution_count": 82,
   "id": "b5ec6c05",
   "metadata": {
    "execution": {
     "iopub.execute_input": "2023-08-13T18:15:05.931130Z",
     "iopub.status.busy": "2023-08-13T18:15:05.930504Z",
     "iopub.status.idle": "2023-08-13T18:15:05.937899Z",
     "shell.execute_reply": "2023-08-13T18:15:05.936724Z"
    },
    "papermill": {
     "duration": 0.056448,
     "end_time": "2023-08-13T18:15:05.940940",
     "exception": false,
     "start_time": "2023-08-13T18:15:05.884492",
     "status": "completed"
    },
    "tags": []
   },
   "outputs": [
    {
     "name": "stdout",
     "output_type": "stream",
     "text": [
      "Computational_time_lr= 863.4475464820862       F1 Score 0.9538891619562546\n",
      "Computational_time_mnb= 4.9763171672821045       F1 Score 0.8537109855001229\n",
      "Computational_time_mlp= 40.51955842971802       F1 Score 0.8199803391496682\n"
     ]
    }
   ],
   "source": [
    "#Computational time of all models and their respective f1_score\n",
    "\n",
    "print(\"Computational_time_lr=\", lr_end-lr_start, \"      F1 Score\", f1_score_lr )\n",
    "print(\"Computational_time_mnb=\", mnb_end-mnb_start, \"      F1 Score\", f1_score_mnb )\n",
    "print(\"Computational_time_mlp=\", mlp_end-mlp_start, \"      F1 Score\", f1_score_mlp )"
   ]
  },
  {
   "cell_type": "markdown",
   "id": "451b140d",
   "metadata": {
    "papermill": {
     "duration": 0.044793,
     "end_time": "2023-08-13T18:15:06.033621",
     "exception": false,
     "start_time": "2023-08-13T18:15:05.988828",
     "status": "completed"
    },
    "tags": []
   },
   "source": [
    "### 1.  Logistic Regression model performing better on validation dataset and also computational time is less as compared to Multinomial Naive Bayes and MLP Classifier.\n",
    "### 2.  Also log reg. performance is slightly similar to mlp classifier but computational time \n",
    "### is very high. Hence chose log. regression for predicting test dataset."
   ]
  },
  {
   "cell_type": "code",
   "execution_count": 83,
   "id": "12abfb2d",
   "metadata": {
    "execution": {
     "iopub.execute_input": "2023-08-13T18:15:06.126063Z",
     "iopub.status.busy": "2023-08-13T18:15:06.125465Z",
     "iopub.status.idle": "2023-08-13T18:15:06.141190Z",
     "shell.execute_reply": "2023-08-13T18:15:06.139984Z"
    },
    "papermill": {
     "duration": 0.065009,
     "end_time": "2023-08-13T18:15:06.144088",
     "exception": false,
     "start_time": "2023-08-13T18:15:06.079079",
     "status": "completed"
    },
    "tags": []
   },
   "outputs": [],
   "source": [
    "#log regression giving best result than multinpmial NB and Support Vector Machine Classifier \n",
    "#hence use this result for making prediction on test datasets\n",
    "\n",
    "y_test_pred_lr=RandomizedSearchCV_lr.predict(test_merged_skb)"
   ]
  },
  {
   "cell_type": "code",
   "execution_count": 84,
   "id": "a04919a4",
   "metadata": {
    "execution": {
     "iopub.execute_input": "2023-08-13T18:15:06.235718Z",
     "iopub.status.busy": "2023-08-13T18:15:06.235257Z",
     "iopub.status.idle": "2023-08-13T18:15:06.502356Z",
     "shell.execute_reply": "2023-08-13T18:15:06.501082Z"
    },
    "papermill": {
     "duration": 0.31651,
     "end_time": "2023-08-13T18:15:06.505248",
     "exception": false,
     "start_time": "2023-08-13T18:15:06.188738",
     "status": "completed"
    },
    "tags": []
   },
   "outputs": [],
   "source": [
    "submission=pd.DataFrame(columns=['id', 'sentiment'])\n",
    "submission['id']=[i for i in range(len(y_test_pred_lr))]\n",
    "pred_list=[]\n",
    "for j in y_test_pred_lr:\n",
    "    if j==1:\n",
    "        pred_list.append('POSITIVE')\n",
    "    else:\n",
    "        pred_list.append('NEGATIVE')\n",
    "submission[\"sentiment\"]=pred_list\n",
    "submission.to_csv('submission.csv',index=False)"
   ]
  },
  {
   "cell_type": "code",
   "execution_count": 85,
   "id": "4ff47729",
   "metadata": {
    "execution": {
     "iopub.execute_input": "2023-08-13T18:15:06.598757Z",
     "iopub.status.busy": "2023-08-13T18:15:06.598313Z",
     "iopub.status.idle": "2023-08-13T18:15:06.611638Z",
     "shell.execute_reply": "2023-08-13T18:15:06.610535Z"
    },
    "papermill": {
     "duration": 0.063382,
     "end_time": "2023-08-13T18:15:06.614071",
     "exception": false,
     "start_time": "2023-08-13T18:15:06.550689",
     "status": "completed"
    },
    "tags": []
   },
   "outputs": [
    {
     "data": {
      "text/html": [
       "<div>\n",
       "<style scoped>\n",
       "    .dataframe tbody tr th:only-of-type {\n",
       "        vertical-align: middle;\n",
       "    }\n",
       "\n",
       "    .dataframe tbody tr th {\n",
       "        vertical-align: top;\n",
       "    }\n",
       "\n",
       "    .dataframe thead th {\n",
       "        text-align: right;\n",
       "    }\n",
       "</style>\n",
       "<table border=\"1\" class=\"dataframe\">\n",
       "  <thead>\n",
       "    <tr style=\"text-align: right;\">\n",
       "      <th></th>\n",
       "      <th>id</th>\n",
       "      <th>sentiment</th>\n",
       "    </tr>\n",
       "  </thead>\n",
       "  <tbody>\n",
       "    <tr>\n",
       "      <th>0</th>\n",
       "      <td>0</td>\n",
       "      <td>POSITIVE</td>\n",
       "    </tr>\n",
       "    <tr>\n",
       "      <th>1</th>\n",
       "      <td>1</td>\n",
       "      <td>POSITIVE</td>\n",
       "    </tr>\n",
       "    <tr>\n",
       "      <th>2</th>\n",
       "      <td>2</td>\n",
       "      <td>POSITIVE</td>\n",
       "    </tr>\n",
       "    <tr>\n",
       "      <th>3</th>\n",
       "      <td>3</td>\n",
       "      <td>POSITIVE</td>\n",
       "    </tr>\n",
       "    <tr>\n",
       "      <th>4</th>\n",
       "      <td>4</td>\n",
       "      <td>POSITIVE</td>\n",
       "    </tr>\n",
       "    <tr>\n",
       "      <th>...</th>\n",
       "      <td>...</td>\n",
       "      <td>...</td>\n",
       "    </tr>\n",
       "    <tr>\n",
       "      <th>55310</th>\n",
       "      <td>55310</td>\n",
       "      <td>POSITIVE</td>\n",
       "    </tr>\n",
       "    <tr>\n",
       "      <th>55311</th>\n",
       "      <td>55311</td>\n",
       "      <td>POSITIVE</td>\n",
       "    </tr>\n",
       "    <tr>\n",
       "      <th>55312</th>\n",
       "      <td>55312</td>\n",
       "      <td>NEGATIVE</td>\n",
       "    </tr>\n",
       "    <tr>\n",
       "      <th>55313</th>\n",
       "      <td>55313</td>\n",
       "      <td>POSITIVE</td>\n",
       "    </tr>\n",
       "    <tr>\n",
       "      <th>55314</th>\n",
       "      <td>55314</td>\n",
       "      <td>NEGATIVE</td>\n",
       "    </tr>\n",
       "  </tbody>\n",
       "</table>\n",
       "<p>55315 rows × 2 columns</p>\n",
       "</div>"
      ],
      "text/plain": [
       "          id sentiment\n",
       "0          0  POSITIVE\n",
       "1          1  POSITIVE\n",
       "2          2  POSITIVE\n",
       "3          3  POSITIVE\n",
       "4          4  POSITIVE\n",
       "...      ...       ...\n",
       "55310  55310  POSITIVE\n",
       "55311  55311  POSITIVE\n",
       "55312  55312  NEGATIVE\n",
       "55313  55313  POSITIVE\n",
       "55314  55314  NEGATIVE\n",
       "\n",
       "[55315 rows x 2 columns]"
      ]
     },
     "execution_count": 85,
     "metadata": {},
     "output_type": "execute_result"
    }
   ],
   "source": [
    "submission"
   ]
  }
 ],
 "metadata": {
  "kernelspec": {
   "display_name": "Python 3",
   "language": "python",
   "name": "python3"
  },
  "language_info": {
   "codemirror_mode": {
    "name": "ipython",
    "version": 3
   },
   "file_extension": ".py",
   "mimetype": "text/x-python",
   "name": "python",
   "nbconvert_exporter": "python",
   "pygments_lexer": "ipython3",
   "version": "3.10.10"
  },
  "papermill": {
   "default_parameters": {},
   "duration": 1061.525824,
   "end_time": "2023-08-13T18:15:09.285763",
   "environment_variables": {},
   "exception": null,
   "input_path": "__notebook__.ipynb",
   "output_path": "__notebook__.ipynb",
   "parameters": {},
   "start_time": "2023-08-13T17:57:27.759939",
   "version": "2.4.0"
  }
 },
 "nbformat": 4,
 "nbformat_minor": 5
}
